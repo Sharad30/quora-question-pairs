{
 "cells": [
  {
   "cell_type": "code",
   "execution_count": 3,
   "metadata": {},
   "outputs": [],
   "source": [
    "import numpy as np # linear algebra\n",
    "import pandas as pd # data processing, CSV file I/O (e.g. pd.read_csv)\n",
    "import os\n",
    "import gc\n",
    "import matplotlib.pyplot as plt\n",
    "import seaborn as sns\n",
    "import nltk\n",
    "import codecs\n",
    "from nltk.tokenize import PunktSentenceTokenizer\n",
    "from nltk.tokenize import sent_tokenize, word_tokenize, TreebankWordTokenizer\n",
    "from nltk.corpus import stopwords\n",
    "from nltk.stem import WordNetLemmatizer, PorterStemmer\n",
    "from nltk.corpus import wordnet\n",
    "from sklearn.feature_extraction.text import CountVectorizer, TfidfVectorizer\n",
    "import  re\n",
    "from gensim.models import Word2Vec\n",
    "%matplotlib inline"
   ]
  },
  {
   "cell_type": "code",
   "execution_count": 17,
   "metadata": {},
   "outputs": [],
   "source": [
    "train_path = 'train.csv'"
   ]
  },
  {
   "cell_type": "code",
   "execution_count": 19,
   "metadata": {},
   "outputs": [],
   "source": [
    "def load_data(path):\n",
    "    \n",
    "    df = pd.read_csv(path, encoding = 'UTF-8')\n",
    "    return df"
   ]
  },
  {
   "cell_type": "code",
   "execution_count": 164,
   "metadata": {},
   "outputs": [],
   "source": [
    "df_train = load_data(train_path)"
   ]
  },
  {
   "cell_type": "code",
   "execution_count": 165,
   "metadata": {},
   "outputs": [
    {
     "data": {
      "text/html": [
       "<div>\n",
       "<style scoped>\n",
       "    .dataframe tbody tr th:only-of-type {\n",
       "        vertical-align: middle;\n",
       "    }\n",
       "\n",
       "    .dataframe tbody tr th {\n",
       "        vertical-align: top;\n",
       "    }\n",
       "\n",
       "    .dataframe thead th {\n",
       "        text-align: right;\n",
       "    }\n",
       "</style>\n",
       "<table border=\"1\" class=\"dataframe\">\n",
       "  <thead>\n",
       "    <tr style=\"text-align: right;\">\n",
       "      <th></th>\n",
       "      <th>id</th>\n",
       "      <th>qid1</th>\n",
       "      <th>qid2</th>\n",
       "      <th>question1</th>\n",
       "      <th>question2</th>\n",
       "      <th>is_duplicate</th>\n",
       "    </tr>\n",
       "  </thead>\n",
       "  <tbody>\n",
       "    <tr>\n",
       "      <th>0</th>\n",
       "      <td>0</td>\n",
       "      <td>1</td>\n",
       "      <td>2</td>\n",
       "      <td>What is the step by step guide to invest in sh...</td>\n",
       "      <td>What is the step by step guide to invest in sh...</td>\n",
       "      <td>0</td>\n",
       "    </tr>\n",
       "    <tr>\n",
       "      <th>1</th>\n",
       "      <td>1</td>\n",
       "      <td>3</td>\n",
       "      <td>4</td>\n",
       "      <td>What is the story of Kohinoor (Koh-i-Noor) Dia...</td>\n",
       "      <td>What would happen if the Indian government sto...</td>\n",
       "      <td>0</td>\n",
       "    </tr>\n",
       "    <tr>\n",
       "      <th>2</th>\n",
       "      <td>2</td>\n",
       "      <td>5</td>\n",
       "      <td>6</td>\n",
       "      <td>How can I increase the speed of my internet co...</td>\n",
       "      <td>How can Internet speed be increased by hacking...</td>\n",
       "      <td>0</td>\n",
       "    </tr>\n",
       "    <tr>\n",
       "      <th>3</th>\n",
       "      <td>3</td>\n",
       "      <td>7</td>\n",
       "      <td>8</td>\n",
       "      <td>Why am I mentally very lonely? How can I solve...</td>\n",
       "      <td>Find the remainder when [math]23^{24}[/math] i...</td>\n",
       "      <td>0</td>\n",
       "    </tr>\n",
       "    <tr>\n",
       "      <th>4</th>\n",
       "      <td>4</td>\n",
       "      <td>9</td>\n",
       "      <td>10</td>\n",
       "      <td>Which one dissolve in water quikly sugar, salt...</td>\n",
       "      <td>Which fish would survive in salt water?</td>\n",
       "      <td>0</td>\n",
       "    </tr>\n",
       "  </tbody>\n",
       "</table>\n",
       "</div>"
      ],
      "text/plain": [
       "   id  qid1  qid2                                          question1  \\\n",
       "0   0     1     2  What is the step by step guide to invest in sh...   \n",
       "1   1     3     4  What is the story of Kohinoor (Koh-i-Noor) Dia...   \n",
       "2   2     5     6  How can I increase the speed of my internet co...   \n",
       "3   3     7     8  Why am I mentally very lonely? How can I solve...   \n",
       "4   4     9    10  Which one dissolve in water quikly sugar, salt...   \n",
       "\n",
       "                                           question2  is_duplicate  \n",
       "0  What is the step by step guide to invest in sh...             0  \n",
       "1  What would happen if the Indian government sto...             0  \n",
       "2  How can Internet speed be increased by hacking...             0  \n",
       "3  Find the remainder when [math]23^{24}[/math] i...             0  \n",
       "4            Which fish would survive in salt water?             0  "
      ]
     },
     "execution_count": 165,
     "metadata": {},
     "output_type": "execute_result"
    }
   ],
   "source": [
    "df_train.head()"
   ]
  },
  {
   "cell_type": "code",
   "execution_count": 166,
   "metadata": {},
   "outputs": [],
   "source": [
    "df_train = df_train.drop(['id', 'qid1', 'qid2'], axis=1)"
   ]
  },
  {
   "cell_type": "code",
   "execution_count": 167,
   "metadata": {},
   "outputs": [
    {
     "data": {
      "text/html": [
       "<div>\n",
       "<style scoped>\n",
       "    .dataframe tbody tr th:only-of-type {\n",
       "        vertical-align: middle;\n",
       "    }\n",
       "\n",
       "    .dataframe tbody tr th {\n",
       "        vertical-align: top;\n",
       "    }\n",
       "\n",
       "    .dataframe thead th {\n",
       "        text-align: right;\n",
       "    }\n",
       "</style>\n",
       "<table border=\"1\" class=\"dataframe\">\n",
       "  <thead>\n",
       "    <tr style=\"text-align: right;\">\n",
       "      <th></th>\n",
       "      <th>question1</th>\n",
       "      <th>question2</th>\n",
       "      <th>is_duplicate</th>\n",
       "    </tr>\n",
       "  </thead>\n",
       "  <tbody>\n",
       "    <tr>\n",
       "      <th>0</th>\n",
       "      <td>What is the step by step guide to invest in sh...</td>\n",
       "      <td>What is the step by step guide to invest in sh...</td>\n",
       "      <td>0</td>\n",
       "    </tr>\n",
       "    <tr>\n",
       "      <th>1</th>\n",
       "      <td>What is the story of Kohinoor (Koh-i-Noor) Dia...</td>\n",
       "      <td>What would happen if the Indian government sto...</td>\n",
       "      <td>0</td>\n",
       "    </tr>\n",
       "    <tr>\n",
       "      <th>2</th>\n",
       "      <td>How can I increase the speed of my internet co...</td>\n",
       "      <td>How can Internet speed be increased by hacking...</td>\n",
       "      <td>0</td>\n",
       "    </tr>\n",
       "    <tr>\n",
       "      <th>3</th>\n",
       "      <td>Why am I mentally very lonely? How can I solve...</td>\n",
       "      <td>Find the remainder when [math]23^{24}[/math] i...</td>\n",
       "      <td>0</td>\n",
       "    </tr>\n",
       "    <tr>\n",
       "      <th>4</th>\n",
       "      <td>Which one dissolve in water quikly sugar, salt...</td>\n",
       "      <td>Which fish would survive in salt water?</td>\n",
       "      <td>0</td>\n",
       "    </tr>\n",
       "  </tbody>\n",
       "</table>\n",
       "</div>"
      ],
      "text/plain": [
       "                                           question1  \\\n",
       "0  What is the step by step guide to invest in sh...   \n",
       "1  What is the story of Kohinoor (Koh-i-Noor) Dia...   \n",
       "2  How can I increase the speed of my internet co...   \n",
       "3  Why am I mentally very lonely? How can I solve...   \n",
       "4  Which one dissolve in water quikly sugar, salt...   \n",
       "\n",
       "                                           question2  is_duplicate  \n",
       "0  What is the step by step guide to invest in sh...             0  \n",
       "1  What would happen if the Indian government sto...             0  \n",
       "2  How can Internet speed be increased by hacking...             0  \n",
       "3  Find the remainder when [math]23^{24}[/math] i...             0  \n",
       "4            Which fish would survive in salt water?             0  "
      ]
     },
     "execution_count": 167,
     "metadata": {},
     "output_type": "execute_result"
    }
   ],
   "source": [
    "df_train.head()"
   ]
  },
  {
   "cell_type": "code",
   "execution_count": 38,
   "metadata": {},
   "outputs": [],
   "source": [
    "def simpleFilter(sentence):\n",
    "\n",
    "    filtered_sent = []\n",
    "    sentence = re.sub(r'[^a-zA-Z0-9]', ' ', sentence)\n",
    "\n",
    "    lemmatizer = WordNetLemmatizer()\n",
    "    stop_words = set(stopwords.words(\"english\"))\n",
    "    words = word_tokenize(sentence)\n",
    "    \n",
    "\n",
    "    for w in words:\n",
    "            if w.lower() not in stop_words:\n",
    "                    filtered_sent.append(w)\n",
    "                    \n",
    "#     filtered_sent = ' '.join(filtered_sent)\n",
    "\n",
    "    return filtered_sent"
   ]
  },
  {
   "cell_type": "code",
   "execution_count": 39,
   "metadata": {},
   "outputs": [],
   "source": [
    "def split_dataset(df, start, end):\n",
    "    \n",
    "    return df.iloc[start:end, :]"
   ]
  },
  {
   "cell_type": "code",
   "execution_count": 168,
   "metadata": {},
   "outputs": [],
   "source": [
    "train = split_dataset(df_train, 0, 500)\n",
    "val = split_dataset(df_train, 100001, 300000)"
   ]
  },
  {
   "cell_type": "code",
   "execution_count": 169,
   "metadata": {},
   "outputs": [
    {
     "name": "stderr",
     "output_type": "stream",
     "text": [
      "/home/sharad30/miniconda/envs/py36/lib/python3.6/site-packages/ipykernel_launcher.py:1: SettingWithCopyWarning: \n",
      "A value is trying to be set on a copy of a slice from a DataFrame.\n",
      "Try using .loc[row_indexer,col_indexer] = value instead\n",
      "\n",
      "See the caveats in the documentation: http://pandas.pydata.org/pandas-docs/stable/indexing.html#indexing-view-versus-copy\n",
      "  \"\"\"Entry point for launching an IPython kernel.\n",
      "/home/sharad30/miniconda/envs/py36/lib/python3.6/site-packages/ipykernel_launcher.py:2: SettingWithCopyWarning: \n",
      "A value is trying to be set on a copy of a slice from a DataFrame.\n",
      "Try using .loc[row_indexer,col_indexer] = value instead\n",
      "\n",
      "See the caveats in the documentation: http://pandas.pydata.org/pandas-docs/stable/indexing.html#indexing-view-versus-copy\n",
      "  \n"
     ]
    }
   ],
   "source": [
    "train['question1'] = train['question1'].apply(simpleFilter)\n",
    "train['question2'] = train['question2'].apply(simpleFilter)"
   ]
  },
  {
   "cell_type": "code",
   "execution_count": 42,
   "metadata": {},
   "outputs": [
    {
     "name": "stderr",
     "output_type": "stream",
     "text": [
      "/home/sharad30/miniconda/envs/py36/lib/python3.6/site-packages/ipykernel_launcher.py:1: SettingWithCopyWarning: \n",
      "A value is trying to be set on a copy of a slice from a DataFrame.\n",
      "Try using .loc[row_indexer,col_indexer] = value instead\n",
      "\n",
      "See the caveats in the documentation: http://pandas.pydata.org/pandas-docs/stable/indexing.html#indexing-view-versus-copy\n",
      "  \"\"\"Entry point for launching an IPython kernel.\n"
     ]
    }
   ],
   "source": [
    "train['question2'] = train['question2'].apply(simpleFilter)"
   ]
  },
  {
   "cell_type": "code",
   "execution_count": 170,
   "metadata": {},
   "outputs": [
    {
     "data": {
      "text/html": [
       "<div>\n",
       "<style scoped>\n",
       "    .dataframe tbody tr th:only-of-type {\n",
       "        vertical-align: middle;\n",
       "    }\n",
       "\n",
       "    .dataframe tbody tr th {\n",
       "        vertical-align: top;\n",
       "    }\n",
       "\n",
       "    .dataframe thead th {\n",
       "        text-align: right;\n",
       "    }\n",
       "</style>\n",
       "<table border=\"1\" class=\"dataframe\">\n",
       "  <thead>\n",
       "    <tr style=\"text-align: right;\">\n",
       "      <th></th>\n",
       "      <th>question1</th>\n",
       "      <th>question2</th>\n",
       "      <th>is_duplicate</th>\n",
       "    </tr>\n",
       "  </thead>\n",
       "  <tbody>\n",
       "    <tr>\n",
       "      <th>0</th>\n",
       "      <td>[step, step, guide, invest, share, market, india]</td>\n",
       "      <td>[step, step, guide, invest, share, market]</td>\n",
       "      <td>0</td>\n",
       "    </tr>\n",
       "    <tr>\n",
       "      <th>1</th>\n",
       "      <td>[story, Kohinoor, Koh, Noor, Diamond]</td>\n",
       "      <td>[would, happen, Indian, government, stole, Koh...</td>\n",
       "      <td>0</td>\n",
       "    </tr>\n",
       "    <tr>\n",
       "      <th>2</th>\n",
       "      <td>[increase, speed, internet, connection, using,...</td>\n",
       "      <td>[Internet, speed, increased, hacking, DNS]</td>\n",
       "      <td>0</td>\n",
       "    </tr>\n",
       "    <tr>\n",
       "      <th>3</th>\n",
       "      <td>[mentally, lonely, solve]</td>\n",
       "      <td>[Find, remainder, math, 23, 24, math, divided,...</td>\n",
       "      <td>0</td>\n",
       "    </tr>\n",
       "    <tr>\n",
       "      <th>4</th>\n",
       "      <td>[one, dissolve, water, quikly, sugar, salt, me...</td>\n",
       "      <td>[fish, would, survive, salt, water]</td>\n",
       "      <td>0</td>\n",
       "    </tr>\n",
       "  </tbody>\n",
       "</table>\n",
       "</div>"
      ],
      "text/plain": [
       "                                           question1  \\\n",
       "0  [step, step, guide, invest, share, market, india]   \n",
       "1              [story, Kohinoor, Koh, Noor, Diamond]   \n",
       "2  [increase, speed, internet, connection, using,...   \n",
       "3                          [mentally, lonely, solve]   \n",
       "4  [one, dissolve, water, quikly, sugar, salt, me...   \n",
       "\n",
       "                                           question2  is_duplicate  \n",
       "0         [step, step, guide, invest, share, market]             0  \n",
       "1  [would, happen, Indian, government, stole, Koh...             0  \n",
       "2         [Internet, speed, increased, hacking, DNS]             0  \n",
       "3  [Find, remainder, math, 23, 24, math, divided,...             0  \n",
       "4                [fish, would, survive, salt, water]             0  "
      ]
     },
     "execution_count": 170,
     "metadata": {},
     "output_type": "execute_result"
    }
   ],
   "source": [
    "train.head()"
   ]
  },
  {
   "cell_type": "code",
   "execution_count": 189,
   "metadata": {},
   "outputs": [],
   "source": [
    "# vect = TfidfVectorizer(row_memory = False)\n",
    "# question1 = vect.fit_transform(train['question1'])\n",
    "# pd.DataFrame(question1.toarray(), columns = vect.get_feature_names())"
   ]
  },
  {
   "cell_type": "code",
   "execution_count": 4,
   "metadata": {},
   "outputs": [],
   "source": [
    "def word2vector(question):\n",
    "    \n",
    "    model = Word2Vec(question, min_count=1)\n",
    "    words = list(model.wv.vocab)\n",
    "    vector = model[words]\n",
    "    \n",
    "    return vector"
   ]
  },
  {
   "cell_type": "code",
   "execution_count": 220,
   "metadata": {},
   "outputs": [
    {
     "name": "stderr",
     "output_type": "stream",
     "text": [
      "/home/sharad30/miniconda/envs/py36/lib/python3.6/site-packages/ipykernel_launcher.py:5: DeprecationWarning: Call to deprecated `__getitem__` (Method will be removed in 4.0.0, use self.wv.__getitem__() instead).\n",
      "  \"\"\"\n"
     ]
    }
   ],
   "source": [
    "vec1 = train['question1'].apply(word2vector)"
   ]
  },
  {
   "cell_type": "code",
   "execution_count": 221,
   "metadata": {},
   "outputs": [
    {
     "name": "stderr",
     "output_type": "stream",
     "text": [
      "/home/sharad30/miniconda/envs/py36/lib/python3.6/site-packages/ipykernel_launcher.py:5: DeprecationWarning: Call to deprecated `__getitem__` (Method will be removed in 4.0.0, use self.wv.__getitem__() instead).\n",
      "  \"\"\"\n"
     ]
    }
   ],
   "source": [
    "vec2 = train['question2'].apply(word2vector)"
   ]
  },
  {
   "cell_type": "code",
   "execution_count": 227,
   "metadata": {},
   "outputs": [
    {
     "data": {
      "text/plain": [
       "((10, 100), (14, 100))"
      ]
     },
     "execution_count": 227,
     "metadata": {},
     "output_type": "execute_result"
    }
   ],
   "source": [
    "vec1[3].shape, vec2[3].shape"
   ]
  },
  {
   "cell_type": "code",
   "execution_count": 245,
   "metadata": {},
   "outputs": [
    {
     "data": {
      "text/plain": [
       "0       [[0.0019871842, 0.001969118, -0.0035169523, -0...\n",
       "1       [[0.0019862137, 0.001968448, -0.0035162575, -0...\n",
       "2       [[7.019138e-05, -0.0035415792, 0.0042031636, -...\n",
       "3       [[-0.0009757072, -0.0015634684, -0.00029498918...\n",
       "4       [[0.0030159098, 0.0042842105, -0.0023776798, 0...\n",
       "5       [[-0.0041321637, -0.0004437454, -0.004722553, ...\n",
       "6       [[0.0020626767, 0.004181444, 0.002372044, 0.00...\n",
       "7       [[-0.0020504738, -0.0012395128, 0.0011439148, ...\n",
       "8       [[-0.002805937, 0.004540716, -0.0011508205, -0...\n",
       "9       [[0.0010616853, 0.0018321011, 0.0044839666, 0....\n",
       "10      [[0.0010616853, 0.0018321011, 0.0044839666, 0....\n",
       "11      [[0.001151214, 0.0019150784, 0.0025018773, 0.0...\n",
       "12      [[-0.0009757072, -0.0015634684, -0.00029498918...\n",
       "13      [[0.0006146575, -0.004494815, -0.0041211834, 0...\n",
       "14      [[0.00045915993, 0.004367285, -0.001088966, 0....\n",
       "15      [[0.0006403471, -0.00097565906, 0.0018893208, ...\n",
       "16      [[-0.0009757072, -0.0015634684, -0.00029498918...\n",
       "17      [[-0.0020504738, -0.0012395128, 0.0011439148, ...\n",
       "18      [[-0.0009757072, -0.0015634684, -0.00029498918...\n",
       "19      [[0.002063072, 0.0041823117, 0.002372294, 0.00...\n",
       "20      [[0.001151214, 0.0019150784, 0.0025018773, 0.0...\n",
       "21      [[0.0021010756, -0.0035231463, 0.0020526226, 0...\n",
       "22      [[-0.0008906465, 0.00014744993, -0.001325751, ...\n",
       "23      [[-0.0009757072, -0.0015634684, -0.00029498918...\n",
       "24      [[-0.0009757072, -0.0015634684, -0.00029498918...\n",
       "25      [[7.677264e-05, -0.0033359404, -0.00091625703,...\n",
       "26      [[0.0006403471, -0.00097565906, 0.0018893208, ...\n",
       "27      [[0.0019862137, 0.001968448, -0.0035162575, -0...\n",
       "28      [[0.0020626767, 0.004181444, 0.002372044, 0.00...\n",
       "29      [[0.00032604393, -0.0030886086, 0.0016048802, ...\n",
       "                              ...                        \n",
       "1970    [[0.0019865679, 0.001961032, -0.00351287, -0.0...\n",
       "1971    [[0.0019868712, 0.0019681773, -0.003515082, -0...\n",
       "1972    [[0.00032604393, -0.0030886086, 0.0016048802, ...\n",
       "1973    [[0.0006146575, -0.004494815, -0.0041211834, 0...\n",
       "1974    [[0.0020626767, 0.004181444, 0.002372044, 0.00...\n",
       "1975    [[0.0006403471, -0.00097565906, 0.0018893208, ...\n",
       "1976    [[0.0020626767, 0.004181444, 0.002372044, 0.00...\n",
       "1977    [[0.0027623344, 0.004003942, -0.0043603536, 0....\n",
       "1978    [[0.002101728, -0.0035227924, 0.002052854, 0.0...\n",
       "1979    [[7.033878e-05, -0.0035417625, 0.004203253, -0...\n",
       "1980    [[0.00032604393, -0.0030886086, 0.0016048802, ...\n",
       "1981    [[0.00045982152, -0.00061727996, -0.0011441368...\n",
       "1982    [[-0.001899824, -0.0030250053, 0.004240727, -0...\n",
       "1983    [[-0.0015922618, 0.00088748767, 0.00359054, -0...\n",
       "1984    [[-0.0020504738, -0.0012395128, 0.0011439148, ...\n",
       "1985    [[0.002762169, 0.0040025637, -0.004361106, 0.0...\n",
       "1986    [[0.0019862137, 0.001968448, -0.0035162575, -0...\n",
       "1987    [[-0.0015922618, 0.00088748767, 0.00359054, -0...\n",
       "1988    [[0.0027682243, 0.0040118, -0.004364967, 0.004...\n",
       "1989    [[-0.0009757072, -0.0015634684, -0.00029498918...\n",
       "1990    [[0.0006146575, -0.004494815, -0.0041211834, 0...\n",
       "1991    [[0.0019669153, 0.003586741, 0.002423696, -0.0...\n",
       "1992    [[-0.0009757072, -0.0015634684, -0.00029498918...\n",
       "1993    [[7.639503e-05, -0.003338516, -0.0009180457, 0...\n",
       "1994    [[0.0011838395, -0.0047009867, 0.0045678164, -...\n",
       "1995    [[-0.0047465633, 0.00048895844, 0.0032589433, ...\n",
       "1996    [[-0.0020504738, -0.0012395128, 0.0011439148, ...\n",
       "1997    [[0.0018092751, 0.00395177, -0.0013076552, -0....\n",
       "1998    [[0.0020626767, 0.004181444, 0.002372044, 0.00...\n",
       "1999    [[0.0019669153, 0.003586741, 0.002423696, -0.0...\n",
       "Name: question1, Length: 2000, dtype: object"
      ]
     },
     "execution_count": 245,
     "metadata": {},
     "output_type": "execute_result"
    }
   ],
   "source": [
    "vec1"
   ]
  },
  {
   "cell_type": "code",
   "execution_count": 237,
   "metadata": {},
   "outputs": [],
   "source": [
    "from sklearn.metrics import pairwise\n",
    "s = pairwise.cosine_similarity(vec1[3],vec2[3], dense_output=True)\n",
    "a = pd.DataFrame(s)"
   ]
  },
  {
   "cell_type": "code",
   "execution_count": 269,
   "metadata": {},
   "outputs": [
    {
     "data": {
      "text/plain": [
       "array([[-0.12667936,  0.1330758 ,  0.03522154, -0.2277365 , -0.05722146,\n",
       "        -0.17128502,  0.9999999 , -0.09329993,  0.225535  , -0.03328187,\n",
       "        -0.02893452, -0.01053553,  0.04611381, -0.10580146],\n",
       "       [ 0.07207628, -0.00935888,  0.03748829,  0.12590565,  0.00871781,\n",
       "         1.        , -0.17123109, -0.02890566, -0.16381088, -0.1075519 ,\n",
       "         0.12129682,  0.09270362,  0.10340946, -0.10086416],\n",
       "       [ 0.07719892, -0.12661088,  0.9999999 , -0.14491612, -0.09169605,\n",
       "         0.03727191,  0.03516314,  0.01193368,  0.00141589, -0.21082988,\n",
       "        -0.00661743,  0.11710373,  0.05062352, -0.15357873],\n",
       "       [-0.01553059, -0.01878507,  0.00148561, -0.16031677, -0.06944671,\n",
       "        -0.16385986,  0.22552617,  0.08349419,  1.        , -0.00752989,\n",
       "        -0.05717545,  0.05337813,  0.0383581 , -0.31606826],\n",
       "       [ 0.03908015, -0.03441771,  0.01190017,  0.14279673,  0.13567257,\n",
       "        -0.0289435 , -0.09314851,  0.9999996 ,  0.0835311 , -0.08635464,\n",
       "         0.14076054, -0.00817875, -0.09945207,  0.11471924],\n",
       "       [-0.07203255, -0.05299516, -0.01417   , -0.00979377,  0.04045354,\n",
       "         0.08656792,  0.1133439 , -0.02195382,  0.11173302,  0.10507903,\n",
       "        -0.18572317, -0.0493575 ,  0.04993073, -0.16765563],\n",
       "       [-0.06671488,  0.17232786, -0.0722454 , -0.03473998,  0.03070568,\n",
       "        -0.02945313,  0.05740453, -0.21018869, -0.01398746, -0.18402755,\n",
       "         0.17694905,  0.13325867, -0.21343537,  0.04476024],\n",
       "       [-0.0554086 , -0.08549765,  0.26452273,  0.0781064 ,  0.01508459,\n",
       "        -0.04929925, -0.09332649,  0.0129805 ,  0.1510579 ,  0.0243317 ,\n",
       "         0.09580074,  0.0822017 , -0.02826639, -0.09712138],\n",
       "       [ 0.14221941, -0.00933774,  0.05118217,  0.06412684, -0.1457066 ,\n",
       "         0.11944998,  0.05722845, -0.13882938, -0.02697778,  0.15899698,\n",
       "         0.18430977, -0.03937896, -0.02890191, -0.06301019],\n",
       "       [ 0.15162356, -0.03718013, -0.15399761,  0.02938384,  0.0518275 ,\n",
       "        -0.10071737, -0.1057916 ,  0.11472178, -0.31606826, -0.04859742,\n",
       "         0.00762831,  0.01172991, -0.02572344,  1.0000001 ]],\n",
       "      dtype=float32)"
      ]
     },
     "execution_count": 269,
     "metadata": {},
     "output_type": "execute_result"
    }
   ],
   "source": [
    "s"
   ]
  },
  {
   "cell_type": "code",
   "execution_count": 290,
   "metadata": {},
   "outputs": [],
   "source": [
    "data = pd.DataFrame()\n",
    "l = []\n",
    "for i in range(s.shape[0]):\n",
    "    for j in s:\n",
    "        \n",
    "        data['cs' + str(i)] = np.array(j)\n",
    "#         print(j)"
   ]
  },
  {
   "cell_type": "code",
   "execution_count": 291,
   "metadata": {},
   "outputs": [
    {
     "data": {
      "text/html": [
       "<div>\n",
       "<style scoped>\n",
       "    .dataframe tbody tr th:only-of-type {\n",
       "        vertical-align: middle;\n",
       "    }\n",
       "\n",
       "    .dataframe tbody tr th {\n",
       "        vertical-align: top;\n",
       "    }\n",
       "\n",
       "    .dataframe thead th {\n",
       "        text-align: right;\n",
       "    }\n",
       "</style>\n",
       "<table border=\"1\" class=\"dataframe\">\n",
       "  <thead>\n",
       "    <tr style=\"text-align: right;\">\n",
       "      <th></th>\n",
       "      <th>cs0</th>\n",
       "      <th>cs1</th>\n",
       "      <th>cs2</th>\n",
       "      <th>cs3</th>\n",
       "      <th>cs4</th>\n",
       "      <th>cs5</th>\n",
       "      <th>cs6</th>\n",
       "      <th>cs7</th>\n",
       "      <th>cs8</th>\n",
       "      <th>cs9</th>\n",
       "    </tr>\n",
       "  </thead>\n",
       "  <tbody>\n",
       "    <tr>\n",
       "      <th>0</th>\n",
       "      <td>0.151624</td>\n",
       "      <td>0.151624</td>\n",
       "      <td>0.151624</td>\n",
       "      <td>0.151624</td>\n",
       "      <td>0.151624</td>\n",
       "      <td>0.151624</td>\n",
       "      <td>0.151624</td>\n",
       "      <td>0.151624</td>\n",
       "      <td>0.151624</td>\n",
       "      <td>0.151624</td>\n",
       "    </tr>\n",
       "    <tr>\n",
       "      <th>1</th>\n",
       "      <td>-0.037180</td>\n",
       "      <td>-0.037180</td>\n",
       "      <td>-0.037180</td>\n",
       "      <td>-0.037180</td>\n",
       "      <td>-0.037180</td>\n",
       "      <td>-0.037180</td>\n",
       "      <td>-0.037180</td>\n",
       "      <td>-0.037180</td>\n",
       "      <td>-0.037180</td>\n",
       "      <td>-0.037180</td>\n",
       "    </tr>\n",
       "    <tr>\n",
       "      <th>2</th>\n",
       "      <td>-0.153998</td>\n",
       "      <td>-0.153998</td>\n",
       "      <td>-0.153998</td>\n",
       "      <td>-0.153998</td>\n",
       "      <td>-0.153998</td>\n",
       "      <td>-0.153998</td>\n",
       "      <td>-0.153998</td>\n",
       "      <td>-0.153998</td>\n",
       "      <td>-0.153998</td>\n",
       "      <td>-0.153998</td>\n",
       "    </tr>\n",
       "    <tr>\n",
       "      <th>3</th>\n",
       "      <td>0.029384</td>\n",
       "      <td>0.029384</td>\n",
       "      <td>0.029384</td>\n",
       "      <td>0.029384</td>\n",
       "      <td>0.029384</td>\n",
       "      <td>0.029384</td>\n",
       "      <td>0.029384</td>\n",
       "      <td>0.029384</td>\n",
       "      <td>0.029384</td>\n",
       "      <td>0.029384</td>\n",
       "    </tr>\n",
       "    <tr>\n",
       "      <th>4</th>\n",
       "      <td>0.051827</td>\n",
       "      <td>0.051827</td>\n",
       "      <td>0.051827</td>\n",
       "      <td>0.051827</td>\n",
       "      <td>0.051827</td>\n",
       "      <td>0.051827</td>\n",
       "      <td>0.051827</td>\n",
       "      <td>0.051827</td>\n",
       "      <td>0.051827</td>\n",
       "      <td>0.051827</td>\n",
       "    </tr>\n",
       "    <tr>\n",
       "      <th>5</th>\n",
       "      <td>-0.100717</td>\n",
       "      <td>-0.100717</td>\n",
       "      <td>-0.100717</td>\n",
       "      <td>-0.100717</td>\n",
       "      <td>-0.100717</td>\n",
       "      <td>-0.100717</td>\n",
       "      <td>-0.100717</td>\n",
       "      <td>-0.100717</td>\n",
       "      <td>-0.100717</td>\n",
       "      <td>-0.100717</td>\n",
       "    </tr>\n",
       "    <tr>\n",
       "      <th>6</th>\n",
       "      <td>-0.105792</td>\n",
       "      <td>-0.105792</td>\n",
       "      <td>-0.105792</td>\n",
       "      <td>-0.105792</td>\n",
       "      <td>-0.105792</td>\n",
       "      <td>-0.105792</td>\n",
       "      <td>-0.105792</td>\n",
       "      <td>-0.105792</td>\n",
       "      <td>-0.105792</td>\n",
       "      <td>-0.105792</td>\n",
       "    </tr>\n",
       "    <tr>\n",
       "      <th>7</th>\n",
       "      <td>0.114722</td>\n",
       "      <td>0.114722</td>\n",
       "      <td>0.114722</td>\n",
       "      <td>0.114722</td>\n",
       "      <td>0.114722</td>\n",
       "      <td>0.114722</td>\n",
       "      <td>0.114722</td>\n",
       "      <td>0.114722</td>\n",
       "      <td>0.114722</td>\n",
       "      <td>0.114722</td>\n",
       "    </tr>\n",
       "    <tr>\n",
       "      <th>8</th>\n",
       "      <td>-0.316068</td>\n",
       "      <td>-0.316068</td>\n",
       "      <td>-0.316068</td>\n",
       "      <td>-0.316068</td>\n",
       "      <td>-0.316068</td>\n",
       "      <td>-0.316068</td>\n",
       "      <td>-0.316068</td>\n",
       "      <td>-0.316068</td>\n",
       "      <td>-0.316068</td>\n",
       "      <td>-0.316068</td>\n",
       "    </tr>\n",
       "    <tr>\n",
       "      <th>9</th>\n",
       "      <td>-0.048597</td>\n",
       "      <td>-0.048597</td>\n",
       "      <td>-0.048597</td>\n",
       "      <td>-0.048597</td>\n",
       "      <td>-0.048597</td>\n",
       "      <td>-0.048597</td>\n",
       "      <td>-0.048597</td>\n",
       "      <td>-0.048597</td>\n",
       "      <td>-0.048597</td>\n",
       "      <td>-0.048597</td>\n",
       "    </tr>\n",
       "    <tr>\n",
       "      <th>10</th>\n",
       "      <td>0.007628</td>\n",
       "      <td>0.007628</td>\n",
       "      <td>0.007628</td>\n",
       "      <td>0.007628</td>\n",
       "      <td>0.007628</td>\n",
       "      <td>0.007628</td>\n",
       "      <td>0.007628</td>\n",
       "      <td>0.007628</td>\n",
       "      <td>0.007628</td>\n",
       "      <td>0.007628</td>\n",
       "    </tr>\n",
       "    <tr>\n",
       "      <th>11</th>\n",
       "      <td>0.011730</td>\n",
       "      <td>0.011730</td>\n",
       "      <td>0.011730</td>\n",
       "      <td>0.011730</td>\n",
       "      <td>0.011730</td>\n",
       "      <td>0.011730</td>\n",
       "      <td>0.011730</td>\n",
       "      <td>0.011730</td>\n",
       "      <td>0.011730</td>\n",
       "      <td>0.011730</td>\n",
       "    </tr>\n",
       "    <tr>\n",
       "      <th>12</th>\n",
       "      <td>-0.025723</td>\n",
       "      <td>-0.025723</td>\n",
       "      <td>-0.025723</td>\n",
       "      <td>-0.025723</td>\n",
       "      <td>-0.025723</td>\n",
       "      <td>-0.025723</td>\n",
       "      <td>-0.025723</td>\n",
       "      <td>-0.025723</td>\n",
       "      <td>-0.025723</td>\n",
       "      <td>-0.025723</td>\n",
       "    </tr>\n",
       "    <tr>\n",
       "      <th>13</th>\n",
       "      <td>1.000000</td>\n",
       "      <td>1.000000</td>\n",
       "      <td>1.000000</td>\n",
       "      <td>1.000000</td>\n",
       "      <td>1.000000</td>\n",
       "      <td>1.000000</td>\n",
       "      <td>1.000000</td>\n",
       "      <td>1.000000</td>\n",
       "      <td>1.000000</td>\n",
       "      <td>1.000000</td>\n",
       "    </tr>\n",
       "  </tbody>\n",
       "</table>\n",
       "</div>"
      ],
      "text/plain": [
       "         cs0       cs1       cs2       cs3       cs4       cs5       cs6  \\\n",
       "0   0.151624  0.151624  0.151624  0.151624  0.151624  0.151624  0.151624   \n",
       "1  -0.037180 -0.037180 -0.037180 -0.037180 -0.037180 -0.037180 -0.037180   \n",
       "2  -0.153998 -0.153998 -0.153998 -0.153998 -0.153998 -0.153998 -0.153998   \n",
       "3   0.029384  0.029384  0.029384  0.029384  0.029384  0.029384  0.029384   \n",
       "4   0.051827  0.051827  0.051827  0.051827  0.051827  0.051827  0.051827   \n",
       "5  -0.100717 -0.100717 -0.100717 -0.100717 -0.100717 -0.100717 -0.100717   \n",
       "6  -0.105792 -0.105792 -0.105792 -0.105792 -0.105792 -0.105792 -0.105792   \n",
       "7   0.114722  0.114722  0.114722  0.114722  0.114722  0.114722  0.114722   \n",
       "8  -0.316068 -0.316068 -0.316068 -0.316068 -0.316068 -0.316068 -0.316068   \n",
       "9  -0.048597 -0.048597 -0.048597 -0.048597 -0.048597 -0.048597 -0.048597   \n",
       "10  0.007628  0.007628  0.007628  0.007628  0.007628  0.007628  0.007628   \n",
       "11  0.011730  0.011730  0.011730  0.011730  0.011730  0.011730  0.011730   \n",
       "12 -0.025723 -0.025723 -0.025723 -0.025723 -0.025723 -0.025723 -0.025723   \n",
       "13  1.000000  1.000000  1.000000  1.000000  1.000000  1.000000  1.000000   \n",
       "\n",
       "         cs7       cs8       cs9  \n",
       "0   0.151624  0.151624  0.151624  \n",
       "1  -0.037180 -0.037180 -0.037180  \n",
       "2  -0.153998 -0.153998 -0.153998  \n",
       "3   0.029384  0.029384  0.029384  \n",
       "4   0.051827  0.051827  0.051827  \n",
       "5  -0.100717 -0.100717 -0.100717  \n",
       "6  -0.105792 -0.105792 -0.105792  \n",
       "7   0.114722  0.114722  0.114722  \n",
       "8  -0.316068 -0.316068 -0.316068  \n",
       "9  -0.048597 -0.048597 -0.048597  \n",
       "10  0.007628  0.007628  0.007628  \n",
       "11  0.011730  0.011730  0.011730  \n",
       "12 -0.025723 -0.025723 -0.025723  \n",
       "13  1.000000  1.000000  1.000000  "
      ]
     },
     "execution_count": 291,
     "metadata": {},
     "output_type": "execute_result"
    }
   ],
   "source": [
    "data"
   ]
  },
  {
   "cell_type": "code",
   "execution_count": null,
   "metadata": {},
   "outputs": [],
   "source": []
  },
  {
   "cell_type": "code",
   "execution_count": 282,
   "metadata": {},
   "outputs": [
    {
     "data": {
      "text/plain": [
       "numpy.float64"
      ]
     },
     "execution_count": 282,
     "metadata": {},
     "output_type": "execute_result"
    }
   ],
   "source": [
    "type(data['cs0'][0])"
   ]
  },
  {
   "cell_type": "code",
   "execution_count": 187,
   "metadata": {},
   "outputs": [
    {
     "name": "stdout",
     "output_type": "stream",
     "text": [
      "[['story', 'Kohinoor', 'Koh', 'Noor', 'Diamond']]\n",
      "['story', 'Kohinoor', 'Koh', 'Noor', 'Diamond']\n"
     ]
    },
    {
     "name": "stderr",
     "output_type": "stream",
     "text": [
      "/home/sharad30/miniconda/envs/py36/lib/python3.6/site-packages/ipykernel_launcher.py:6: DeprecationWarning: Call to deprecated `__getitem__` (Method will be removed in 4.0.0, use self.wv.__getitem__() instead).\n",
      "  \n"
     ]
    }
   ],
   "source": [
    "question1 = [train['question1'][1]]\n",
    "print(question1)\n",
    "model1 = Word2Vec(question1, min_count=1)\n",
    "words = list(model1.wv.vocab)\n",
    "print(words)\n",
    "vector1 = model1[words]\n",
    "\n",
    "# question2 = train['question2']\n",
    "# model2 = Word2Vec(question2, min_count=1)\n",
    "# vector2 = model2['sentence']"
   ]
  },
  {
   "cell_type": "code",
   "execution_count": 244,
   "metadata": {},
   "outputs": [
    {
     "name": "stdout",
     "output_type": "stream",
     "text": [
      "(5, 100)\n",
      "[[ 3.5788614e-04 -3.1634402e-03  9.7066205e-04  1.9029808e-03\n",
      "   4.6830550e-03 -4.2461039e-04 -1.6588887e-03  4.5354245e-04\n",
      "   8.8091078e-04 -1.7946663e-04  1.3936843e-03 -2.8551803e-03\n",
      "  -4.0526336e-04  3.8737350e-03  9.0062281e-04 -3.9840289e-03\n",
      "   1.5258614e-03 -3.0916906e-03  4.6014176e-03  3.0462116e-03\n",
      "  -1.9543439e-03 -2.4718316e-03  2.8281643e-03 -1.5164563e-03\n",
      "   2.5484909e-03  3.2327513e-03  1.3732563e-03  1.8964956e-03\n",
      "   4.4214986e-03 -3.8354676e-03  1.8174434e-03  4.4549215e-03\n",
      "   4.2639202e-03 -4.9998420e-03 -4.2485758e-03 -2.1577924e-03\n",
      "   1.6260018e-03  2.8679604e-03 -2.6868724e-03 -3.3963847e-03\n",
      "  -3.4960825e-03  2.9206427e-03 -1.0360917e-03  7.1839509e-05\n",
      "  -1.3018103e-03 -4.2439764e-03 -4.7994982e-03 -3.9620409e-03\n",
      "  -4.5759813e-03 -4.4078743e-03 -1.2480839e-03 -7.6592329e-04\n",
      "   3.0261849e-03  5.1923504e-04 -4.3704119e-03  4.5558857e-03\n",
      "   4.2289686e-03  2.1104417e-03 -2.5520741e-03  2.1661776e-03\n",
      "  -1.7653697e-03  4.7842953e-03 -4.4162185e-03 -3.1741902e-03\n",
      "  -4.3144538e-03 -3.7557411e-03 -4.7364431e-03  2.0387247e-03\n",
      "   1.8698418e-03 -3.7788278e-03 -4.0721549e-03 -1.7804938e-04\n",
      "   4.4529764e-03 -3.4302985e-03  1.3033800e-03  4.5185485e-03\n",
      "  -1.8127923e-03 -1.1785160e-03 -4.2503770e-03  2.7621977e-03\n",
      "  -1.2918840e-03 -3.2950875e-03 -3.2843673e-03  4.6566114e-04\n",
      "   1.9343350e-04  4.3086438e-03  4.1880896e-03  2.9108445e-03\n",
      "   1.0776168e-03  3.2429029e-03 -1.6663352e-03  3.4669258e-03\n",
      "   1.4043542e-03 -3.2145304e-03 -3.2659620e-03 -1.6002128e-03\n",
      "   3.4557362e-03 -2.6713151e-03  1.5190857e-03  3.2360607e-03]\n",
      " [-4.4776476e-03  3.2630938e-03  1.8782037e-03 -3.1914141e-03\n",
      "  -3.5950128e-04 -1.6552125e-03  3.4633200e-03  1.6842398e-03\n",
      "   2.6475568e-03 -1.8779628e-03 -2.3767862e-03  4.0437947e-03\n",
      "  -1.5260470e-03 -6.9254875e-04 -1.9214649e-03  4.7284639e-03\n",
      "  -4.5582074e-05  2.4650951e-03  3.0531907e-03  2.4882345e-03\n",
      "  -1.0404533e-03  4.5050932e-03  1.1267153e-03  1.7350361e-04\n",
      "  -1.9347235e-03 -1.1407413e-03 -2.7467292e-03  4.7963122e-03\n",
      "  -9.5465360e-04 -3.1953435e-03 -2.2141163e-03  4.9701203e-03\n",
      "  -8.4361789e-04  4.4173035e-03 -4.4495016e-03  4.6088751e-03\n",
      "   2.4774719e-03 -1.7218448e-03  4.1414127e-03 -2.4115450e-03\n",
      "  -1.3540159e-03  3.5341287e-03  2.6048450e-03  4.0677721e-03\n",
      "   4.8387256e-03  3.1807641e-03  2.0918699e-03 -1.1512095e-03\n",
      "  -2.8409193e-05 -1.7117005e-03 -1.3470750e-03 -2.1650037e-03\n",
      "   4.1266865e-04 -1.8053275e-03 -2.0574816e-03  6.9386052e-04\n",
      "   3.4070443e-03  1.7694748e-03  2.7422782e-03  3.0041600e-03\n",
      "   2.8094354e-03 -4.1296557e-03 -8.1213453e-04 -9.2563813e-04\n",
      "   3.0913712e-03 -1.7956197e-03 -3.9386572e-03 -3.8650839e-03\n",
      "  -1.8425522e-03 -3.1633268e-04 -6.3459593e-04  4.4590989e-03\n",
      "  -3.4875758e-03 -1.2308506e-03  3.9360588e-03  3.6819403e-03\n",
      "  -3.9188811e-03 -4.2059212e-03 -4.5722462e-03  1.2489109e-03\n",
      "  -2.2194777e-03 -1.1853543e-03 -2.7260813e-03 -4.3870262e-03\n",
      "   6.5315870e-04  1.6850679e-03  4.4975067e-03  2.8401422e-03\n",
      "  -4.8978277e-03  1.4586798e-03  2.8525984e-03  3.5750931e-03\n",
      "   4.0774443e-03 -3.5275805e-03  1.6663149e-03  3.7629213e-03\n",
      "   2.2027530e-03  2.8916784e-03 -1.7326240e-03 -1.5944151e-03]\n",
      " [-4.1217702e-03 -9.1153453e-04  7.4131618e-04 -3.3224174e-03\n",
      "  -7.5299595e-04  3.3011644e-03 -4.7513181e-03 -3.7832838e-03\n",
      "   3.5759255e-03 -4.2857043e-03 -3.2137544e-03 -3.6808939e-03\n",
      "  -1.1964944e-03  2.8522911e-03 -2.5301496e-03  3.4596475e-03\n",
      "  -2.2269373e-03  3.2902541e-04 -3.6801836e-03  5.1772210e-04\n",
      "  -1.1222265e-03  2.6363009e-03 -3.2649443e-03 -2.1467579e-03\n",
      "  -3.7753237e-03  9.5830014e-04 -4.7547552e-03  4.2672604e-03\n",
      "   1.8052782e-03 -1.5878330e-03  3.0036834e-03  2.0696614e-03\n",
      "  -4.2625284e-03 -3.6349960e-03 -4.0793433e-03  3.3099146e-03\n",
      "  -3.6402317e-03 -1.2710410e-03 -4.5568659e-03  4.3263608e-03\n",
      "   3.6052365e-03  4.5431181e-04  3.5824303e-03 -4.4447039e-03\n",
      "  -5.4711534e-04 -4.0179896e-03 -4.6079173e-03  1.2471926e-03\n",
      "  -1.5154984e-03  2.0376483e-03 -3.3967392e-04 -3.0379568e-03\n",
      "   3.0788581e-03  2.5333590e-03 -1.4667624e-03 -4.8730704e-03\n",
      "  -4.4061630e-03  4.2543737e-03 -4.6698740e-04  3.7744383e-03\n",
      "   2.0440847e-03  3.1675135e-03  2.9752862e-03  1.6112046e-03\n",
      "  -4.5997938e-03 -1.1601391e-03 -2.8431003e-03  3.2202927e-03\n",
      "  -1.4504439e-03  1.0799198e-04  1.2436324e-03  1.4346750e-03\n",
      "   4.7803740e-03 -4.6879221e-03 -1.8827200e-03 -3.5219882e-03\n",
      "   1.3484632e-03 -8.1576715e-04  4.5425352e-03 -6.8390317e-04\n",
      "  -2.3800971e-03 -4.4279261e-03  1.9551613e-03  1.7298831e-03\n",
      "  -8.3167013e-04 -2.5749879e-03  4.5049298e-03  2.1614039e-03\n",
      "  -3.7057083e-03 -4.0969676e-03  3.7439074e-03  9.3798531e-04\n",
      "   1.6796214e-03 -1.5110919e-03 -5.1767996e-04  2.8427434e-03\n",
      "  -2.8136978e-03  4.3417565e-03  1.8599997e-03  3.7664655e-03]\n",
      " [-4.0750704e-03 -2.4261192e-04 -7.0286513e-04 -3.4413857e-03\n",
      "   3.0888736e-04 -4.8198826e-03 -3.8417177e-03  1.9198889e-03\n",
      "  -1.1244140e-03  4.2668600e-03  1.2136434e-03  1.5814730e-03\n",
      "  -4.3429541e-03 -1.0967029e-03  2.1726270e-03  4.8739114e-03\n",
      "   4.1323402e-03  2.6301327e-03 -1.4868127e-03  1.2513248e-03\n",
      "  -2.7674343e-03 -4.8002353e-04  3.7228067e-03 -8.6379459e-04\n",
      "   2.3166147e-04  2.3301311e-03  2.8441572e-03 -4.7979965e-03\n",
      "   2.8020185e-03  3.3619870e-03 -1.1626276e-03  5.7694485e-04\n",
      "  -4.0157948e-04 -1.3960699e-04  1.5444023e-04 -3.3399765e-03\n",
      "   2.1348933e-03  5.6470593e-04 -3.4687021e-03 -3.5706975e-03\n",
      "   1.0441984e-03  2.9738992e-03 -1.7905813e-03  2.3587849e-03\n",
      "  -3.4691317e-03  2.8802478e-03  2.9269946e-03 -4.9271416e-03\n",
      "   2.5276472e-03  3.9752307e-03  3.3781328e-03 -3.4864028e-03\n",
      "   3.0470612e-03 -2.2920840e-03 -2.9651646e-03  1.7769259e-04\n",
      "   2.2039558e-03  2.0304511e-03  1.1122662e-03 -4.0700799e-03\n",
      "  -4.5687049e-03  1.8861308e-03  3.0377873e-03  3.4582682e-03\n",
      "  -2.9692834e-03  4.6793981e-03  4.2102942e-03 -4.8714186e-04\n",
      "  -4.4514830e-03 -1.0941471e-03  4.4606314e-03  1.7940414e-03\n",
      "   4.9944483e-03 -2.3822379e-03  1.9124335e-03  7.4123504e-04\n",
      "  -6.5245008e-04 -1.5553500e-03  1.1035098e-03 -3.0798120e-03\n",
      "  -4.3098298e-03  2.5169463e-03 -1.5995145e-03 -1.5202143e-03\n",
      "   7.2637667e-05  1.9538752e-03  3.4377587e-03 -2.9640496e-03\n",
      "   2.5134217e-03 -3.8171271e-04  3.7464080e-03  4.5856102e-03\n",
      "  -2.6935411e-03  4.4303210e-03 -1.9393153e-04 -2.9348745e-04\n",
      "   3.2476755e-03 -6.4145593e-04 -2.6586608e-04 -1.3659284e-03]\n",
      " [-3.0802879e-05  3.4061773e-03  3.0316904e-03  1.8548050e-03\n",
      "   9.7449531e-04 -3.3512595e-03  5.8306940e-04  1.3416410e-04\n",
      "   2.9415551e-03 -3.6489763e-03 -2.1484750e-03 -2.6514567e-03\n",
      "  -1.9312613e-03  9.8898460e-04 -3.7852270e-03  3.6539515e-03\n",
      "   1.2242156e-03 -2.7815027e-03  2.1479654e-03  1.0720270e-03\n",
      "  -4.1319830e-03 -4.0514264e-03  1.5807531e-03 -4.2738896e-03\n",
      "  -1.9807850e-03 -3.5400353e-03 -3.5147052e-03  4.8797438e-03\n",
      "  -2.5975797e-03  1.7754573e-03 -5.1074103e-04  3.1749804e-03\n",
      "   4.2057973e-03 -3.7635851e-03  2.3627725e-04  4.8478902e-03\n",
      "   1.2746175e-03 -1.3418589e-04 -3.7404357e-03 -2.5432867e-03\n",
      "   1.0820130e-03  2.8180818e-03 -1.3870053e-03  1.7905475e-03\n",
      "   4.4978461e-03 -1.9062171e-03 -2.2794020e-03  4.6122391e-03\n",
      "  -3.9683478e-03  9.4687357e-04  2.9640489e-03  1.0737005e-03\n",
      "  -1.2631896e-04 -3.1250557e-03  3.2599540e-03  4.0438795e-03\n",
      "   2.3298168e-03 -1.5721371e-03  1.8840879e-03 -1.8007110e-03\n",
      "  -3.9441511e-03 -8.8888519e-05 -4.3829633e-03  3.9354065e-03\n",
      "  -3.1025952e-03  2.5458909e-03  1.6944148e-03 -1.3501118e-03\n",
      "   2.3674485e-03 -3.2644859e-03  4.6777544e-03  2.6827489e-03\n",
      "   2.0088709e-03  8.9550519e-04  2.7252862e-04 -1.4927236e-03\n",
      "   2.9884689e-03 -2.7125308e-04  1.4860587e-03 -2.4338996e-03\n",
      "  -5.3777965e-04  1.3394644e-04 -1.1216365e-03  3.3601308e-03\n",
      "  -9.9987967e-04 -2.4222159e-03  4.6033370e-03  3.1833104e-03\n",
      "  -1.5340692e-03 -2.4900986e-03 -4.8291637e-03  2.2705556e-03\n",
      "   3.5597212e-03 -1.8157909e-03 -2.3939768e-03  4.3821262e-04\n",
      "   3.6366805e-03 -2.0285784e-03 -9.3064923e-04  1.7322114e-03]]\n"
     ]
    }
   ],
   "source": [
    "print (vector1.shape)\n",
    "print(vector1)"
   ]
  },
  {
   "cell_type": "code",
   "execution_count": 171,
   "metadata": {},
   "outputs": [
    {
     "data": {
      "text/plain": [
       "['step', 'step', 'guide', 'invest', 'share', 'market', 'india']"
      ]
     },
     "execution_count": 171,
     "metadata": {},
     "output_type": "execute_result"
    }
   ],
   "source": [
    "train['question1'][0]"
   ]
  },
  {
   "cell_type": "code",
   "execution_count": 152,
   "metadata": {},
   "outputs": [
    {
     "data": {
      "text/plain": [
       "0.26489913"
      ]
     },
     "execution_count": 152,
     "metadata": {},
     "output_type": "execute_result"
    }
   ],
   "source": [
    "dist = np.linalg.norm(vector1-vector2)\n",
    "dist"
   ]
  },
  {
   "cell_type": "code",
   "execution_count": 156,
   "metadata": {},
   "outputs": [
    {
     "name": "stdout",
     "output_type": "stream",
     "text": [
      "Word2Vec(vocab=21406, size=100, alpha=0.025)\n"
     ]
    }
   ],
   "source": [
    "print(model1)"
   ]
  },
  {
   "cell_type": "code",
   "execution_count": 157,
   "metadata": {},
   "outputs": [
    {
     "name": "stdout",
     "output_type": "stream",
     "text": [
      "Word2Vec(vocab=20409, size=100, alpha=0.025)\n"
     ]
    }
   ],
   "source": [
    "print(model2)"
   ]
  },
  {
   "cell_type": "code",
   "execution_count": 158,
   "metadata": {},
   "outputs": [
    {
     "data": {
      "text/plain": [
       "array([ 0.06456608,  0.03256906, -0.0789848 ,  0.07845466, -0.05121044,\n",
       "       -0.08446381, -0.12593625,  0.18131836, -0.03463574,  0.05487311,\n",
       "       -0.09661291,  0.07371156,  0.11927063,  0.01375276, -0.03100643,\n",
       "       -0.03012677,  0.0574383 ,  0.1166074 ,  0.08392926,  0.12399976,\n",
       "        0.01111842, -0.00777644,  0.00229203,  0.13919373, -0.03406178,\n",
       "        0.0511396 ,  0.07140026, -0.18719178, -0.07196861, -0.10793178,\n",
       "       -0.07576232,  0.02158575, -0.05925721, -0.12358637, -0.06114413,\n",
       "        0.0200294 ,  0.26763308, -0.11993156,  0.09369645,  0.01279841,\n",
       "        0.01046564,  0.0545241 , -0.09027612, -0.00278676,  0.05947515,\n",
       "        0.02290811, -0.0952461 , -0.09124961, -0.13434157,  0.1151384 ,\n",
       "       -0.0483738 ,  0.09152637,  0.03570361, -0.01550004, -0.08927046,\n",
       "       -0.10670144, -0.04639032,  0.10100814,  0.09929407, -0.09975764,\n",
       "        0.07241693,  0.0530327 , -0.01438992, -0.06843679, -0.02262365,\n",
       "        0.04167978, -0.02752242,  0.03039587, -0.19239524,  0.11515209,\n",
       "       -0.03548501,  0.01567296, -0.01135254, -0.14987075, -0.0130119 ,\n",
       "        0.13185762, -0.00172004, -0.09619179,  0.16115496,  0.07801574,\n",
       "       -0.12636082,  0.16328333, -0.14183532, -0.10918874,  0.03918939,\n",
       "       -0.2006953 ,  0.1027495 ,  0.06399925, -0.04767289,  0.03202448,\n",
       "        0.13683963, -0.08336681,  0.04513515, -0.0137467 , -0.08840423,\n",
       "        0.01158338,  0.04779301, -0.07599534, -0.12586813, -0.06145795],\n",
       "      dtype=float32)"
      ]
     },
     "execution_count": 158,
     "metadata": {},
     "output_type": "execute_result"
    }
   ],
   "source": [
    "vector1"
   ]
  },
  {
   "cell_type": "code",
   "execution_count": 71,
   "metadata": {},
   "outputs": [
    {
     "data": {
      "text/plain": [
       "0                [step, step, guide, invest, share, market]\n",
       "1         [would, happen, Indian, government, stole, Koh...\n",
       "2                [Internet, speed, increased, hacking, DNS]\n",
       "3         [Find, remainder, math, 23, 24, math, divided,...\n",
       "4                       [fish, would, survive, salt, water]\n",
       "5         [triple, Capricorn, Sun, Moon, ascendant, Capr...\n",
       "6         [keeps, childern, active, far, phone, video, g...\n",
       "7                                        [great, geologist]\n",
       "8                                            [use, instead]\n",
       "9                 [hack, Motorola, DCX3400, free, internet]\n",
       "10        [things, technicians, tell, durability, reliab...\n",
       "11                                 [see, Youtube, comments]\n",
       "12                             [make, physics, easy, learn]\n",
       "13                              [first, sexual, experience]\n",
       "14        [laws, change, status, student, visa, green, c...\n",
       "15        [Trump, presidency, affect, students, presentl...\n",
       "16                                    [manipulation, means]\n",
       "17                            [guys, feel, rejecting, girl]\n",
       "18        [people, ask, Quora, questions, answered, easi...\n",
       "19              [best, digital, marketing, institute, Pune]\n",
       "20                      [rockets, boosters, painted, white]\n",
       "21                                [avoid, jealous, someone]\n",
       "22                                   [question, ask, Quora]\n",
       "23                [find, conversion, chart, CC, horsepower]\n",
       "24                [many, times, day, clock, hands, overlap]\n",
       "25        [tips, making, job, interview, process, Founda...\n",
       "26                            [web, application, framework]\n",
       "27                            [sports, contribute, society]\n",
       "28                          [best, way, ask, money, online]\n",
       "29        [one, know, completely, prepare, CA, final, exam]\n",
       "                                ...                        \n",
       "404260             What is the best phone to buy below 15k?\n",
       "404261    Who is the most popular character in the Game ...\n",
       "404262                     How do I reset a Toshiba laptop?\n",
       "404263    Why does CO2 contribute more to global warming...\n",
       "404264           How do I make a safe and cheap power bank?\n",
       "404265                    What should I eat to gain weight?\n",
       "404266    My boyfriend says he deleted his Facebook Mess...\n",
       "404267    What were the most important causes and effect...\n",
       "404268         Should I raise my young child on 80's music?\n",
       "404269    What Does It Feel Like to have antisocial pers...\n",
       "404270        What is the difference between \"&\" and \"and\"?\n",
       "404271    What was Joseph Stalin's 5 year plan? How did ...\n",
       "404272    What are some mind-blowing vehicles tools that...\n",
       "404273    What would happen if I put milk instead of wat...\n",
       "404274    What kind of parents will the next generation ...\n",
       "404275    What is a utilities expense in accounting? How...\n",
       "404276                             What is ContenVania.com?\n",
       "404277                     What are analytical people like?\n",
       "404278    How did you prepare for the AIIMS UG entrance ...\n",
       "404279    What is a cheaper and quicker way to build an ...\n",
       "404280    What are some outfit ideas wear to a frat them...\n",
       "404281    Why is Manaphy annoying in Pokemon ranger and ...\n",
       "404282      How are long distance relationships maintained?\n",
       "404283    What will the CPU upgrade to the 2016 Apple Ma...\n",
       "404284    What does Jainism say about Gays and Homosexua...\n",
       "404285    How many keywords are there in PERL Programmin...\n",
       "404286           Is it true that there is life after death?\n",
       "404287                                    What's this coin?\n",
       "404288    I am having little hairfall problem but I want...\n",
       "404289        What is it like to have sex with your cousin?\n",
       "Name: question2, Length: 404290, dtype: object"
      ]
     },
     "execution_count": 71,
     "metadata": {},
     "output_type": "execute_result"
    }
   ],
   "source": [
    "df_train['question2']"
   ]
  },
  {
   "cell_type": "code",
   "execution_count": 172,
   "metadata": {},
   "outputs": [],
   "source": [
    "from gensim.models import Word2Vec\n",
    "# define training data\n",
    "\n",
    "sentences = []\n",
    "for i in range(train.shape[0]):\n",
    "    sentences.append(df_train['question1'][i] + df_train['question2'][i])\n",
    "    \n",
    "#print(df_train['question1'][0]+ df_train['question2'][0])\n",
    "# train model\n",
    "model = Word2Vec(sentences, min_count=1)\n",
    "# summarize the loaded model\n",
    "# print(sentences)\n",
    "# summarize vocabulary\n",
    "#words = list(model.wv.vocab)\n",
    "#print(words)\n",
    "# access vector for one word\n",
    "#print(model['words'])\n",
    "# save model\n",
    "#model.save('model.bin')\n",
    "# load model\n",
    "#new_model = Word2Vec.load('model.bin')\n",
    "#print(new_model)"
   ]
  },
  {
   "cell_type": "code",
   "execution_count": 171,
   "metadata": {},
   "outputs": [
    {
     "data": {
      "text/html": [
       "<div>\n",
       "<style scoped>\n",
       "    .dataframe tbody tr th:only-of-type {\n",
       "        vertical-align: middle;\n",
       "    }\n",
       "\n",
       "    .dataframe tbody tr th {\n",
       "        vertical-align: top;\n",
       "    }\n",
       "\n",
       "    .dataframe thead th {\n",
       "        text-align: right;\n",
       "    }\n",
       "</style>\n",
       "<table border=\"1\" class=\"dataframe\">\n",
       "  <thead>\n",
       "    <tr style=\"text-align: right;\">\n",
       "      <th></th>\n",
       "      <th>question1</th>\n",
       "      <th>question2</th>\n",
       "      <th>is_duplicate</th>\n",
       "    </tr>\n",
       "  </thead>\n",
       "  <tbody>\n",
       "    <tr>\n",
       "      <th>0</th>\n",
       "      <td>[step, step, guide, invest, share, market, india]</td>\n",
       "      <td>[step, step, guide, invest, share, market]</td>\n",
       "      <td>0</td>\n",
       "    </tr>\n",
       "    <tr>\n",
       "      <th>1</th>\n",
       "      <td>[story, Kohinoor, Koh, Noor, Diamond]</td>\n",
       "      <td>[would, happen, Indian, government, stole, Koh...</td>\n",
       "      <td>0</td>\n",
       "    </tr>\n",
       "    <tr>\n",
       "      <th>2</th>\n",
       "      <td>[increase, speed, internet, connection, using,...</td>\n",
       "      <td>[Internet, speed, increased, hacking, DNS]</td>\n",
       "      <td>0</td>\n",
       "    </tr>\n",
       "    <tr>\n",
       "      <th>3</th>\n",
       "      <td>[mentally, lonely, solve]</td>\n",
       "      <td>[Find, remainder, math, 23, 24, math, divided,...</td>\n",
       "      <td>0</td>\n",
       "    </tr>\n",
       "    <tr>\n",
       "      <th>4</th>\n",
       "      <td>[one, dissolve, water, quikly, sugar, salt, me...</td>\n",
       "      <td>[fish, would, survive, salt, water]</td>\n",
       "      <td>0</td>\n",
       "    </tr>\n",
       "  </tbody>\n",
       "</table>\n",
       "</div>"
      ],
      "text/plain": [
       "                                           question1  \\\n",
       "0  [step, step, guide, invest, share, market, india]   \n",
       "1              [story, Kohinoor, Koh, Noor, Diamond]   \n",
       "2  [increase, speed, internet, connection, using,...   \n",
       "3                          [mentally, lonely, solve]   \n",
       "4  [one, dissolve, water, quikly, sugar, salt, me...   \n",
       "\n",
       "                                           question2  is_duplicate  \n",
       "0         [step, step, guide, invest, share, market]             0  \n",
       "1  [would, happen, Indian, government, stole, Koh...             0  \n",
       "2         [Internet, speed, increased, hacking, DNS]             0  \n",
       "3  [Find, remainder, math, 23, 24, math, divided,...             0  \n",
       "4                [fish, would, survive, salt, water]             0  "
      ]
     },
     "execution_count": 171,
     "metadata": {},
     "output_type": "execute_result"
    }
   ],
   "source": [
    "train.head()"
   ]
  },
  {
   "cell_type": "code",
   "execution_count": 86,
   "metadata": {},
   "outputs": [
    {
     "data": {
      "text/plain": [
       "int"
      ]
     },
     "execution_count": 86,
     "metadata": {},
     "output_type": "execute_result"
    }
   ],
   "source": [
    "type(df_train.shape[0])"
   ]
  },
  {
   "cell_type": "code",
   "execution_count": 173,
   "metadata": {},
   "outputs": [],
   "source": [
    "import numpy as np\n",
    "from scipy import spatial\n",
    "\n",
    "model = Word2Vec(sentences, min_count=1)\n",
    "index2word_set = set(model.wv.index2word)\n",
    "\n",
    "def avg_feature_vector(sentence, model, num_features, index2word_set):\n",
    "#     words = sentence.split()\n",
    "    feature_vec = np.zeros((num_features, ), dtype='float32')\n",
    "    n_words = 0\n",
    "    for word in words:\n",
    "        if word in index2word_set:\n",
    "            n_words += 1\n",
    "            feature_vec = np.add(feature_vec, model[word])\n",
    "    if (n_words > 0):\n",
    "        feature_vec = np.divide(feature_vec, n_words)\n",
    "        print (feature_vec)\n",
    "    return feature_vec"
   ]
  },
  {
   "cell_type": "code",
   "execution_count": 179,
   "metadata": {},
   "outputs": [
    {
     "name": "stdout",
     "output_type": "stream",
     "text": [
      "[ 3.82295577e-04  1.09277712e-03  1.32161425e-03  6.26321824e-04\n",
      "  8.54891085e-04  2.47365353e-03  2.31200736e-03 -5.63635549e-04\n",
      "  5.75752638e-04 -8.68648931e-04  1.76784664e-03  5.62354398e-04\n",
      "  2.67387339e-04 -1.80263666e-03 -1.00544479e-03  8.87314323e-04\n",
      "  1.42101708e-04 -1.17410731e-03 -9.26675217e-04  2.41298112e-04\n",
      "  1.03800267e-03 -2.33562221e-03 -9.62568505e-04  5.66628238e-04\n",
      "  1.54806461e-04 -1.63805904e-04 -4.43561585e-04 -3.34645039e-04\n",
      " -1.10245903e-03 -1.02144259e-03  7.37335242e-04 -1.66524795e-03\n",
      " -2.09507835e-03 -1.12523709e-03  2.22731163e-04 -2.33208435e-03\n",
      " -2.94659840e-04 -5.07081859e-05 -1.68602797e-04  1.32245987e-04\n",
      "  1.82952697e-03  1.16040173e-03 -2.01004022e-03 -8.76717328e-04\n",
      "  2.90417601e-03  6.98848395e-04  1.78534759e-03  1.27066392e-03\n",
      " -1.12601942e-04 -1.68194048e-04  1.99625254e-04 -1.13093760e-03\n",
      "  3.19011509e-04 -1.15804852e-03  1.18720823e-03  1.24722405e-03\n",
      " -3.98771634e-04 -7.68968370e-04 -6.68385066e-04  1.79518887e-03\n",
      "  1.19422970e-03 -7.01520417e-04  1.03167607e-03 -1.65606255e-03\n",
      "  4.43287339e-04  3.17496061e-03 -3.26016598e-04 -1.08318251e-04\n",
      " -1.15903746e-03 -5.39296481e-04  3.11208423e-04  2.06394261e-03\n",
      "  4.72925603e-05 -3.77593446e-04 -2.01799511e-03 -2.85155809e-04\n",
      "  7.51330226e-04  1.04151004e-04 -3.60815786e-04  4.87489713e-04\n",
      "  1.37303025e-03  1.15282694e-03  3.36344121e-04  8.95548670e-04\n",
      "  3.59994992e-05 -7.37811963e-04 -1.06124826e-04 -5.77508996e-04\n",
      "  6.43611420e-04  6.51808441e-05 -8.42851587e-04  3.23224667e-04\n",
      "  3.43568303e-04 -9.44298750e-04 -1.32626889e-03 -2.35585799e-06\n",
      "  4.85890923e-04 -3.63977539e-04  5.06809971e-04  4.10739631e-05]\n",
      "[ 3.82295577e-04  1.09277712e-03  1.32161425e-03  6.26321824e-04\n",
      "  8.54891085e-04  2.47365353e-03  2.31200736e-03 -5.63635549e-04\n",
      "  5.75752638e-04 -8.68648931e-04  1.76784664e-03  5.62354398e-04\n",
      "  2.67387339e-04 -1.80263666e-03 -1.00544479e-03  8.87314323e-04\n",
      "  1.42101708e-04 -1.17410731e-03 -9.26675217e-04  2.41298112e-04\n",
      "  1.03800267e-03 -2.33562221e-03 -9.62568505e-04  5.66628238e-04\n",
      "  1.54806461e-04 -1.63805904e-04 -4.43561585e-04 -3.34645039e-04\n",
      " -1.10245903e-03 -1.02144259e-03  7.37335242e-04 -1.66524795e-03\n",
      " -2.09507835e-03 -1.12523709e-03  2.22731163e-04 -2.33208435e-03\n",
      " -2.94659840e-04 -5.07081859e-05 -1.68602797e-04  1.32245987e-04\n",
      "  1.82952697e-03  1.16040173e-03 -2.01004022e-03 -8.76717328e-04\n",
      "  2.90417601e-03  6.98848395e-04  1.78534759e-03  1.27066392e-03\n",
      " -1.12601942e-04 -1.68194048e-04  1.99625254e-04 -1.13093760e-03\n",
      "  3.19011509e-04 -1.15804852e-03  1.18720823e-03  1.24722405e-03\n",
      " -3.98771634e-04 -7.68968370e-04 -6.68385066e-04  1.79518887e-03\n",
      "  1.19422970e-03 -7.01520417e-04  1.03167607e-03 -1.65606255e-03\n",
      "  4.43287339e-04  3.17496061e-03 -3.26016598e-04 -1.08318251e-04\n",
      " -1.15903746e-03 -5.39296481e-04  3.11208423e-04  2.06394261e-03\n",
      "  4.72925603e-05 -3.77593446e-04 -2.01799511e-03 -2.85155809e-04\n",
      "  7.51330226e-04  1.04151004e-04 -3.60815786e-04  4.87489713e-04\n",
      "  1.37303025e-03  1.15282694e-03  3.36344121e-04  8.95548670e-04\n",
      "  3.59994992e-05 -7.37811963e-04 -1.06124826e-04 -5.77508996e-04\n",
      "  6.43611420e-04  6.51808441e-05 -8.42851587e-04  3.23224667e-04\n",
      "  3.43568303e-04 -9.44298750e-04 -1.32626889e-03 -2.35585799e-06\n",
      "  4.85890923e-04 -3.63977539e-04  5.06809971e-04  4.10739631e-05]\n"
     ]
    },
    {
     "name": "stderr",
     "output_type": "stream",
     "text": [
      "/home/sharad30/miniconda/envs/py36/lib/python3.6/site-packages/ipykernel_launcher.py:14: DeprecationWarning: Call to deprecated `__getitem__` (Method will be removed in 4.0.0, use self.wv.__getitem__() instead).\n",
      "  \n",
      "/home/sharad30/miniconda/envs/py36/lib/python3.6/site-packages/ipykernel_launcher.py:11: DeprecationWarning: Call to deprecated `similarity` (Method will be removed in 4.0.0, use self.wv.similarity() instead).\n",
      "  # This is added back by InteractiveShellApp.init_path()\n"
     ]
    },
    {
     "ename": "KeyError",
     "evalue": "\"word '0.00038229558' not in vocabulary\"",
     "output_type": "error",
     "traceback": [
      "\u001b[0;31m---------------------------------------------------------------------------\u001b[0m",
      "\u001b[0;31mKeyError\u001b[0m                                  Traceback (most recent call last)",
      "\u001b[0;32m<ipython-input-179-01d206b003ab>\u001b[0m in \u001b[0;36m<module>\u001b[0;34m()\u001b[0m\n\u001b[1;32m      9\u001b[0m     \u001b[0mf2\u001b[0m\u001b[0;34m.\u001b[0m\u001b[0mappend\u001b[0m\u001b[0;34m(\u001b[0m\u001b[0ms2_afv\u001b[0m\u001b[0;34m)\u001b[0m\u001b[0;34m\u001b[0m\u001b[0m\n\u001b[1;32m     10\u001b[0m \u001b[0;31m#     sim.append(1 - spatial.distance.cosine(s1_afv, s2_afv))\u001b[0m\u001b[0;34m\u001b[0m\u001b[0;34m\u001b[0m\u001b[0m\n\u001b[0;32m---> 11\u001b[0;31m     \u001b[0msim\u001b[0m\u001b[0;34m.\u001b[0m\u001b[0mappend\u001b[0m\u001b[0;34m(\u001b[0m\u001b[0mmodel\u001b[0m\u001b[0;34m.\u001b[0m\u001b[0msimilarity\u001b[0m\u001b[0;34m(\u001b[0m\u001b[0ms1_afv\u001b[0m\u001b[0;34m,\u001b[0m \u001b[0ms2_afv\u001b[0m\u001b[0;34m)\u001b[0m\u001b[0;34m)\u001b[0m\u001b[0;34m\u001b[0m\u001b[0m\n\u001b[0m\u001b[1;32m     12\u001b[0m \u001b[0;31m# # print(sim)\u001b[0m\u001b[0;34m\u001b[0m\u001b[0;34m\u001b[0m\u001b[0m\n\u001b[1;32m     13\u001b[0m \u001b[0;31m#     sim = cossim(f1,f2)\u001b[0m\u001b[0;34m\u001b[0m\u001b[0;34m\u001b[0m\u001b[0m\n",
      "\u001b[0;32m~/miniconda/envs/py36/lib/python3.6/site-packages/gensim/utils.py\u001b[0m in \u001b[0;36mnew_func1\u001b[0;34m(*args, **kwargs)\u001b[0m\n\u001b[1;32m   1396\u001b[0m                     \u001b[0mstacklevel\u001b[0m\u001b[0;34m=\u001b[0m\u001b[0;36m2\u001b[0m\u001b[0;34m\u001b[0m\u001b[0m\n\u001b[1;32m   1397\u001b[0m                 )\n\u001b[0;32m-> 1398\u001b[0;31m                 \u001b[0;32mreturn\u001b[0m \u001b[0mfunc\u001b[0m\u001b[0;34m(\u001b[0m\u001b[0;34m*\u001b[0m\u001b[0margs\u001b[0m\u001b[0;34m,\u001b[0m \u001b[0;34m**\u001b[0m\u001b[0mkwargs\u001b[0m\u001b[0;34m)\u001b[0m\u001b[0;34m\u001b[0m\u001b[0m\n\u001b[0m\u001b[1;32m   1399\u001b[0m \u001b[0;34m\u001b[0m\u001b[0m\n\u001b[1;32m   1400\u001b[0m             \u001b[0;32mreturn\u001b[0m \u001b[0mnew_func1\u001b[0m\u001b[0;34m\u001b[0m\u001b[0m\n",
      "\u001b[0;32m~/miniconda/envs/py36/lib/python3.6/site-packages/gensim/models/base_any2vec.py\u001b[0m in \u001b[0;36msimilarity\u001b[0;34m(self, w1, w2)\u001b[0m\n\u001b[1;32m    742\u001b[0m         \u001b[0mRefer\u001b[0m \u001b[0mto\u001b[0m \u001b[0mthe\u001b[0m \u001b[0mdocumentation\u001b[0m \u001b[0;32mfor\u001b[0m\u001b[0;31m \u001b[0m\u001b[0;31m`\u001b[0m\u001b[0mgensim\u001b[0m\u001b[0;34m.\u001b[0m\u001b[0mmodels\u001b[0m\u001b[0;34m.\u001b[0m\u001b[0mkeyedvectors\u001b[0m\u001b[0;34m.\u001b[0m\u001b[0mWordEmbeddingsKeyedVectors\u001b[0m\u001b[0;34m.\u001b[0m\u001b[0msimilarity\u001b[0m\u001b[0;31m`\u001b[0m\u001b[0;34m\u001b[0m\u001b[0m\n\u001b[1;32m    743\u001b[0m         \"\"\"\n\u001b[0;32m--> 744\u001b[0;31m         \u001b[0;32mreturn\u001b[0m \u001b[0mself\u001b[0m\u001b[0;34m.\u001b[0m\u001b[0mwv\u001b[0m\u001b[0;34m.\u001b[0m\u001b[0msimilarity\u001b[0m\u001b[0;34m(\u001b[0m\u001b[0mw1\u001b[0m\u001b[0;34m,\u001b[0m \u001b[0mw2\u001b[0m\u001b[0;34m)\u001b[0m\u001b[0;34m\u001b[0m\u001b[0m\n\u001b[0m\u001b[1;32m    745\u001b[0m \u001b[0;34m\u001b[0m\u001b[0m\n\u001b[1;32m    746\u001b[0m     \u001b[0;34m@\u001b[0m\u001b[0mdeprecated\u001b[0m\u001b[0;34m(\u001b[0m\u001b[0;34m\"Method will be removed in 4.0.0, use self.wv.n_similarity() instead\"\u001b[0m\u001b[0;34m)\u001b[0m\u001b[0;34m\u001b[0m\u001b[0m\n",
      "\u001b[0;32m~/miniconda/envs/py36/lib/python3.6/site-packages/gensim/models/keyedvectors.py\u001b[0m in \u001b[0;36msimilarity\u001b[0;34m(self, w1, w2)\u001b[0m\n\u001b[1;32m    826\u001b[0m \u001b[0;34m\u001b[0m\u001b[0m\n\u001b[1;32m    827\u001b[0m         \"\"\"\n\u001b[0;32m--> 828\u001b[0;31m         \u001b[0;32mreturn\u001b[0m \u001b[0mdot\u001b[0m\u001b[0;34m(\u001b[0m\u001b[0mmatutils\u001b[0m\u001b[0;34m.\u001b[0m\u001b[0munitvec\u001b[0m\u001b[0;34m(\u001b[0m\u001b[0mself\u001b[0m\u001b[0;34m[\u001b[0m\u001b[0mw1\u001b[0m\u001b[0;34m]\u001b[0m\u001b[0;34m)\u001b[0m\u001b[0;34m,\u001b[0m \u001b[0mmatutils\u001b[0m\u001b[0;34m.\u001b[0m\u001b[0munitvec\u001b[0m\u001b[0;34m(\u001b[0m\u001b[0mself\u001b[0m\u001b[0;34m[\u001b[0m\u001b[0mw2\u001b[0m\u001b[0;34m]\u001b[0m\u001b[0;34m)\u001b[0m\u001b[0;34m)\u001b[0m\u001b[0;34m\u001b[0m\u001b[0m\n\u001b[0m\u001b[1;32m    829\u001b[0m \u001b[0;34m\u001b[0m\u001b[0m\n\u001b[1;32m    830\u001b[0m     \u001b[0;32mdef\u001b[0m \u001b[0mn_similarity\u001b[0m\u001b[0;34m(\u001b[0m\u001b[0mself\u001b[0m\u001b[0;34m,\u001b[0m \u001b[0mws1\u001b[0m\u001b[0;34m,\u001b[0m \u001b[0mws2\u001b[0m\u001b[0;34m)\u001b[0m\u001b[0;34m:\u001b[0m\u001b[0;34m\u001b[0m\u001b[0m\n",
      "\u001b[0;32m~/miniconda/envs/py36/lib/python3.6/site-packages/gensim/models/keyedvectors.py\u001b[0m in \u001b[0;36m__getitem__\u001b[0;34m(self, entities)\u001b[0m\n\u001b[1;32m    169\u001b[0m             \u001b[0;32mreturn\u001b[0m \u001b[0mself\u001b[0m\u001b[0;34m.\u001b[0m\u001b[0mget_vector\u001b[0m\u001b[0;34m(\u001b[0m\u001b[0mentities\u001b[0m\u001b[0;34m)\u001b[0m\u001b[0;34m\u001b[0m\u001b[0m\n\u001b[1;32m    170\u001b[0m \u001b[0;34m\u001b[0m\u001b[0m\n\u001b[0;32m--> 171\u001b[0;31m         \u001b[0;32mreturn\u001b[0m \u001b[0mvstack\u001b[0m\u001b[0;34m(\u001b[0m\u001b[0;34m[\u001b[0m\u001b[0mself\u001b[0m\u001b[0;34m.\u001b[0m\u001b[0mget_vector\u001b[0m\u001b[0;34m(\u001b[0m\u001b[0mentity\u001b[0m\u001b[0;34m)\u001b[0m \u001b[0;32mfor\u001b[0m \u001b[0mentity\u001b[0m \u001b[0;32min\u001b[0m \u001b[0mentities\u001b[0m\u001b[0;34m]\u001b[0m\u001b[0;34m)\u001b[0m\u001b[0;34m\u001b[0m\u001b[0m\n\u001b[0m\u001b[1;32m    172\u001b[0m \u001b[0;34m\u001b[0m\u001b[0m\n\u001b[1;32m    173\u001b[0m     \u001b[0;32mdef\u001b[0m \u001b[0m__contains__\u001b[0m\u001b[0;34m(\u001b[0m\u001b[0mself\u001b[0m\u001b[0;34m,\u001b[0m \u001b[0mentity\u001b[0m\u001b[0;34m)\u001b[0m\u001b[0;34m:\u001b[0m\u001b[0;34m\u001b[0m\u001b[0m\n",
      "\u001b[0;32m~/miniconda/envs/py36/lib/python3.6/site-packages/gensim/models/keyedvectors.py\u001b[0m in \u001b[0;36m<listcomp>\u001b[0;34m(.0)\u001b[0m\n\u001b[1;32m    169\u001b[0m             \u001b[0;32mreturn\u001b[0m \u001b[0mself\u001b[0m\u001b[0;34m.\u001b[0m\u001b[0mget_vector\u001b[0m\u001b[0;34m(\u001b[0m\u001b[0mentities\u001b[0m\u001b[0;34m)\u001b[0m\u001b[0;34m\u001b[0m\u001b[0m\n\u001b[1;32m    170\u001b[0m \u001b[0;34m\u001b[0m\u001b[0m\n\u001b[0;32m--> 171\u001b[0;31m         \u001b[0;32mreturn\u001b[0m \u001b[0mvstack\u001b[0m\u001b[0;34m(\u001b[0m\u001b[0;34m[\u001b[0m\u001b[0mself\u001b[0m\u001b[0;34m.\u001b[0m\u001b[0mget_vector\u001b[0m\u001b[0;34m(\u001b[0m\u001b[0mentity\u001b[0m\u001b[0;34m)\u001b[0m \u001b[0;32mfor\u001b[0m \u001b[0mentity\u001b[0m \u001b[0;32min\u001b[0m \u001b[0mentities\u001b[0m\u001b[0;34m]\u001b[0m\u001b[0;34m)\u001b[0m\u001b[0;34m\u001b[0m\u001b[0m\n\u001b[0m\u001b[1;32m    172\u001b[0m \u001b[0;34m\u001b[0m\u001b[0m\n\u001b[1;32m    173\u001b[0m     \u001b[0;32mdef\u001b[0m \u001b[0m__contains__\u001b[0m\u001b[0;34m(\u001b[0m\u001b[0mself\u001b[0m\u001b[0;34m,\u001b[0m \u001b[0mentity\u001b[0m\u001b[0;34m)\u001b[0m\u001b[0;34m:\u001b[0m\u001b[0;34m\u001b[0m\u001b[0m\n",
      "\u001b[0;32m~/miniconda/envs/py36/lib/python3.6/site-packages/gensim/models/keyedvectors.py\u001b[0m in \u001b[0;36mget_vector\u001b[0;34m(self, word)\u001b[0m\n\u001b[1;32m    275\u001b[0m \u001b[0;34m\u001b[0m\u001b[0m\n\u001b[1;32m    276\u001b[0m     \u001b[0;32mdef\u001b[0m \u001b[0mget_vector\u001b[0m\u001b[0;34m(\u001b[0m\u001b[0mself\u001b[0m\u001b[0;34m,\u001b[0m \u001b[0mword\u001b[0m\u001b[0;34m)\u001b[0m\u001b[0;34m:\u001b[0m\u001b[0;34m\u001b[0m\u001b[0m\n\u001b[0;32m--> 277\u001b[0;31m         \u001b[0;32mreturn\u001b[0m \u001b[0mself\u001b[0m\u001b[0;34m.\u001b[0m\u001b[0mword_vec\u001b[0m\u001b[0;34m(\u001b[0m\u001b[0mword\u001b[0m\u001b[0;34m)\u001b[0m\u001b[0;34m\u001b[0m\u001b[0m\n\u001b[0m\u001b[1;32m    278\u001b[0m \u001b[0;34m\u001b[0m\u001b[0m\n\u001b[1;32m    279\u001b[0m     \u001b[0;32mdef\u001b[0m \u001b[0mwords_closer_than\u001b[0m\u001b[0;34m(\u001b[0m\u001b[0mself\u001b[0m\u001b[0;34m,\u001b[0m \u001b[0mw1\u001b[0m\u001b[0;34m,\u001b[0m \u001b[0mw2\u001b[0m\u001b[0;34m)\u001b[0m\u001b[0;34m:\u001b[0m\u001b[0;34m\u001b[0m\u001b[0m\n",
      "\u001b[0;32m~/miniconda/envs/py36/lib/python3.6/site-packages/gensim/models/keyedvectors.py\u001b[0m in \u001b[0;36mword_vec\u001b[0;34m(self, word, use_norm)\u001b[0m\n\u001b[1;32m    272\u001b[0m             \u001b[0;32mreturn\u001b[0m \u001b[0mresult\u001b[0m\u001b[0;34m\u001b[0m\u001b[0m\n\u001b[1;32m    273\u001b[0m         \u001b[0;32melse\u001b[0m\u001b[0;34m:\u001b[0m\u001b[0;34m\u001b[0m\u001b[0m\n\u001b[0;32m--> 274\u001b[0;31m             \u001b[0;32mraise\u001b[0m \u001b[0mKeyError\u001b[0m\u001b[0;34m(\u001b[0m\u001b[0;34m\"word '%s' not in vocabulary\"\u001b[0m \u001b[0;34m%\u001b[0m \u001b[0mword\u001b[0m\u001b[0;34m)\u001b[0m\u001b[0;34m\u001b[0m\u001b[0m\n\u001b[0m\u001b[1;32m    275\u001b[0m \u001b[0;34m\u001b[0m\u001b[0m\n\u001b[1;32m    276\u001b[0m     \u001b[0;32mdef\u001b[0m \u001b[0mget_vector\u001b[0m\u001b[0;34m(\u001b[0m\u001b[0mself\u001b[0m\u001b[0;34m,\u001b[0m \u001b[0mword\u001b[0m\u001b[0;34m)\u001b[0m\u001b[0;34m:\u001b[0m\u001b[0;34m\u001b[0m\u001b[0m\n",
      "\u001b[0;31mKeyError\u001b[0m: \"word '0.00038229558' not in vocabulary\""
     ]
    }
   ],
   "source": [
    "from gensim.matutils import cossim\n",
    "sim = []\n",
    "f1 = []\n",
    "f2 = []\n",
    "for i in range(train.shape[0]):\n",
    "    s1_afv = avg_feature_vector(df_train['question1'][i], model=model, num_features=100, index2word_set=index2word_set)\n",
    "    f1.append(s1_afv)\n",
    "    s2_afv = avg_feature_vector(df_train['question2'][i], model=model, num_features=100, index2word_set=index2word_set)\n",
    "    f2.append(s2_afv)\n",
    "#     sim.append(1 - spatial.distance.cosine(s1_afv, s2_afv)) \n",
    "    sim.append(model.similarity(s1_afv, s2_afv))\n",
    "# # print(sim)\n",
    "#     sim = cossim(f1,f2)\n",
    "    \n",
    "    print(sim)"
   ]
  },
  {
   "cell_type": "code",
   "execution_count": 100,
   "metadata": {},
   "outputs": [],
   "source": [
    "train = train.drop(['question1', 'question2'], axis = 1)"
   ]
  },
  {
   "cell_type": "code",
   "execution_count": 118,
   "metadata": {},
   "outputs": [],
   "source": [
    "y = train"
   ]
  },
  {
   "cell_type": "code",
   "execution_count": 120,
   "metadata": {},
   "outputs": [],
   "source": [
    "def model_lr(df2,y2):\n",
    "    from sklearn.linear_model import LogisticRegression\n",
    "    lr = LogisticRegression()\n",
    "    lr.fit(df2,y2)\n",
    "    return lr"
   ]
  },
  {
   "cell_type": "code",
   "execution_count": null,
   "metadata": {},
   "outputs": [],
   "source": [
    "model(sim,)"
   ]
  },
  {
   "cell_type": "code",
   "execution_count": 113,
   "metadata": {},
   "outputs": [],
   "source": [
    "f1 = pd.DataFrame(f1)\n",
    "f2 = pd.DataFrame(f2)"
   ]
  },
  {
   "cell_type": "code",
   "execution_count": 125,
   "metadata": {},
   "outputs": [],
   "source": [
    "X = pd.concat([f1,f2],axis = 1)"
   ]
  },
  {
   "cell_type": "code",
   "execution_count": 128,
   "metadata": {},
   "outputs": [
    {
     "name": "stderr",
     "output_type": "stream",
     "text": [
      "/home/sharad30/miniconda/envs/py36/lib/python3.6/site-packages/sklearn/utils/validation.py:578: DataConversionWarning: A column-vector y was passed when a 1d array was expected. Please change the shape of y to (n_samples, ), for example using ravel().\n",
      "  y = column_or_1d(y, warn=True)\n"
     ]
    }
   ],
   "source": [
    "model_lr = model_lr(pd.concat([f1,f2],axis = 1), y)"
   ]
  },
  {
   "cell_type": "code",
   "execution_count": 122,
   "metadata": {},
   "outputs": [],
   "source": [
    "def log_loss(y2,y_pred):\n",
    "    from sklearn.metrics import log_loss\n",
    "    return log_loss(y2,y_pred)"
   ]
  },
  {
   "cell_type": "code",
   "execution_count": 124,
   "metadata": {},
   "outputs": [],
   "source": [
    "def predict_proba(X, lr):\n",
    "    y_pred_proba = lr.predict_proba(X)\n",
    "    return y_pred_proba"
   ]
  },
  {
   "cell_type": "code",
   "execution_count": 155,
   "metadata": {},
   "outputs": [],
   "source": [
    "X_test = df_train.iloc[400:500,:]"
   ]
  },
  {
   "cell_type": "code",
   "execution_count": 156,
   "metadata": {},
   "outputs": [
    {
     "ename": "TypeError",
     "evalue": "expected string or bytes-like object",
     "output_type": "error",
     "traceback": [
      "\u001b[0;31m---------------------------------------------------------------------------\u001b[0m",
      "\u001b[0;31mTypeError\u001b[0m                                 Traceback (most recent call last)",
      "\u001b[0;32m<ipython-input-156-fd2dcdd754d9>\u001b[0m in \u001b[0;36m<module>\u001b[0;34m()\u001b[0m\n\u001b[0;32m----> 1\u001b[0;31m \u001b[0mX_test\u001b[0m\u001b[0;34m[\u001b[0m\u001b[0;34m'question1'\u001b[0m\u001b[0;34m]\u001b[0m \u001b[0;34m=\u001b[0m \u001b[0mX_test\u001b[0m\u001b[0;34m[\u001b[0m\u001b[0;34m'question1'\u001b[0m\u001b[0;34m]\u001b[0m\u001b[0;34m.\u001b[0m\u001b[0mapply\u001b[0m\u001b[0;34m(\u001b[0m\u001b[0msimpleFilter\u001b[0m\u001b[0;34m)\u001b[0m\u001b[0;34m\u001b[0m\u001b[0m\n\u001b[0m\u001b[1;32m      2\u001b[0m \u001b[0mX_test\u001b[0m\u001b[0;34m[\u001b[0m\u001b[0;34m'question2'\u001b[0m\u001b[0;34m]\u001b[0m \u001b[0;34m=\u001b[0m \u001b[0mX_test\u001b[0m\u001b[0;34m[\u001b[0m\u001b[0;34m'question2'\u001b[0m\u001b[0;34m]\u001b[0m\u001b[0;34m.\u001b[0m\u001b[0mapply\u001b[0m\u001b[0;34m(\u001b[0m\u001b[0msimpleFilter\u001b[0m\u001b[0;34m)\u001b[0m\u001b[0;34m\u001b[0m\u001b[0m\n",
      "\u001b[0;32m~/miniconda/envs/py36/lib/python3.6/site-packages/pandas/core/series.py\u001b[0m in \u001b[0;36mapply\u001b[0;34m(self, func, convert_dtype, args, **kwds)\u001b[0m\n\u001b[1;32m   3190\u001b[0m             \u001b[0;32melse\u001b[0m\u001b[0;34m:\u001b[0m\u001b[0;34m\u001b[0m\u001b[0m\n\u001b[1;32m   3191\u001b[0m                 \u001b[0mvalues\u001b[0m \u001b[0;34m=\u001b[0m \u001b[0mself\u001b[0m\u001b[0;34m.\u001b[0m\u001b[0mastype\u001b[0m\u001b[0;34m(\u001b[0m\u001b[0mobject\u001b[0m\u001b[0;34m)\u001b[0m\u001b[0;34m.\u001b[0m\u001b[0mvalues\u001b[0m\u001b[0;34m\u001b[0m\u001b[0m\n\u001b[0;32m-> 3192\u001b[0;31m                 \u001b[0mmapped\u001b[0m \u001b[0;34m=\u001b[0m \u001b[0mlib\u001b[0m\u001b[0;34m.\u001b[0m\u001b[0mmap_infer\u001b[0m\u001b[0;34m(\u001b[0m\u001b[0mvalues\u001b[0m\u001b[0;34m,\u001b[0m \u001b[0mf\u001b[0m\u001b[0;34m,\u001b[0m \u001b[0mconvert\u001b[0m\u001b[0;34m=\u001b[0m\u001b[0mconvert_dtype\u001b[0m\u001b[0;34m)\u001b[0m\u001b[0;34m\u001b[0m\u001b[0m\n\u001b[0m\u001b[1;32m   3193\u001b[0m \u001b[0;34m\u001b[0m\u001b[0m\n\u001b[1;32m   3194\u001b[0m         \u001b[0;32mif\u001b[0m \u001b[0mlen\u001b[0m\u001b[0;34m(\u001b[0m\u001b[0mmapped\u001b[0m\u001b[0;34m)\u001b[0m \u001b[0;32mand\u001b[0m \u001b[0misinstance\u001b[0m\u001b[0;34m(\u001b[0m\u001b[0mmapped\u001b[0m\u001b[0;34m[\u001b[0m\u001b[0;36m0\u001b[0m\u001b[0;34m]\u001b[0m\u001b[0;34m,\u001b[0m \u001b[0mSeries\u001b[0m\u001b[0;34m)\u001b[0m\u001b[0;34m:\u001b[0m\u001b[0;34m\u001b[0m\u001b[0m\n",
      "\u001b[0;32mpandas/_libs/src/inference.pyx\u001b[0m in \u001b[0;36mpandas._libs.lib.map_infer\u001b[0;34m()\u001b[0m\n",
      "\u001b[0;32m<ipython-input-38-389b1840d85c>\u001b[0m in \u001b[0;36msimpleFilter\u001b[0;34m(sentence)\u001b[0m\n\u001b[1;32m      2\u001b[0m \u001b[0;34m\u001b[0m\u001b[0m\n\u001b[1;32m      3\u001b[0m     \u001b[0mfiltered_sent\u001b[0m \u001b[0;34m=\u001b[0m \u001b[0;34m[\u001b[0m\u001b[0;34m]\u001b[0m\u001b[0;34m\u001b[0m\u001b[0m\n\u001b[0;32m----> 4\u001b[0;31m     \u001b[0msentence\u001b[0m \u001b[0;34m=\u001b[0m \u001b[0mre\u001b[0m\u001b[0;34m.\u001b[0m\u001b[0msub\u001b[0m\u001b[0;34m(\u001b[0m\u001b[0;34mr'[^a-zA-Z0-9]'\u001b[0m\u001b[0;34m,\u001b[0m \u001b[0;34m' '\u001b[0m\u001b[0;34m,\u001b[0m \u001b[0msentence\u001b[0m\u001b[0;34m)\u001b[0m\u001b[0;34m\u001b[0m\u001b[0m\n\u001b[0m\u001b[1;32m      5\u001b[0m \u001b[0;34m\u001b[0m\u001b[0m\n\u001b[1;32m      6\u001b[0m     \u001b[0mlemmatizer\u001b[0m \u001b[0;34m=\u001b[0m \u001b[0mWordNetLemmatizer\u001b[0m\u001b[0;34m(\u001b[0m\u001b[0;34m)\u001b[0m\u001b[0;34m\u001b[0m\u001b[0m\n",
      "\u001b[0;32m~/miniconda/envs/py36/lib/python3.6/re.py\u001b[0m in \u001b[0;36msub\u001b[0;34m(pattern, repl, string, count, flags)\u001b[0m\n\u001b[1;32m    189\u001b[0m     \u001b[0ma\u001b[0m \u001b[0mcallable\u001b[0m\u001b[0;34m,\u001b[0m \u001b[0mit\u001b[0m\u001b[0;31m'\u001b[0m\u001b[0ms\u001b[0m \u001b[0mpassed\u001b[0m \u001b[0mthe\u001b[0m \u001b[0mmatch\u001b[0m \u001b[0mobject\u001b[0m \u001b[0;32mand\u001b[0m \u001b[0mmust\u001b[0m \u001b[0;32mreturn\u001b[0m\u001b[0;34m\u001b[0m\u001b[0m\n\u001b[1;32m    190\u001b[0m     a replacement string to be used.\"\"\"\n\u001b[0;32m--> 191\u001b[0;31m     \u001b[0;32mreturn\u001b[0m \u001b[0m_compile\u001b[0m\u001b[0;34m(\u001b[0m\u001b[0mpattern\u001b[0m\u001b[0;34m,\u001b[0m \u001b[0mflags\u001b[0m\u001b[0;34m)\u001b[0m\u001b[0;34m.\u001b[0m\u001b[0msub\u001b[0m\u001b[0;34m(\u001b[0m\u001b[0mrepl\u001b[0m\u001b[0;34m,\u001b[0m \u001b[0mstring\u001b[0m\u001b[0;34m,\u001b[0m \u001b[0mcount\u001b[0m\u001b[0;34m)\u001b[0m\u001b[0;34m\u001b[0m\u001b[0m\n\u001b[0m\u001b[1;32m    192\u001b[0m \u001b[0;34m\u001b[0m\u001b[0m\n\u001b[1;32m    193\u001b[0m \u001b[0;32mdef\u001b[0m \u001b[0msubn\u001b[0m\u001b[0;34m(\u001b[0m\u001b[0mpattern\u001b[0m\u001b[0;34m,\u001b[0m \u001b[0mrepl\u001b[0m\u001b[0;34m,\u001b[0m \u001b[0mstring\u001b[0m\u001b[0;34m,\u001b[0m \u001b[0mcount\u001b[0m\u001b[0;34m=\u001b[0m\u001b[0;36m0\u001b[0m\u001b[0;34m,\u001b[0m \u001b[0mflags\u001b[0m\u001b[0;34m=\u001b[0m\u001b[0;36m0\u001b[0m\u001b[0;34m)\u001b[0m\u001b[0;34m:\u001b[0m\u001b[0;34m\u001b[0m\u001b[0m\n",
      "\u001b[0;31mTypeError\u001b[0m: expected string or bytes-like object"
     ]
    }
   ],
   "source": [
    "X_test['question1'] = X_test['question1'].apply(simpleFilter)\n",
    "X_test['question2'] = X_test['question2'].apply(simpleFilter)"
   ]
  },
  {
   "cell_type": "code",
   "execution_count": 157,
   "metadata": {},
   "outputs": [
    {
     "data": {
      "text/html": [
       "<div>\n",
       "<style scoped>\n",
       "    .dataframe tbody tr th:only-of-type {\n",
       "        vertical-align: middle;\n",
       "    }\n",
       "\n",
       "    .dataframe tbody tr th {\n",
       "        vertical-align: top;\n",
       "    }\n",
       "\n",
       "    .dataframe thead th {\n",
       "        text-align: right;\n",
       "    }\n",
       "</style>\n",
       "<table border=\"1\" class=\"dataframe\">\n",
       "  <thead>\n",
       "    <tr style=\"text-align: right;\">\n",
       "      <th></th>\n",
       "      <th>question1</th>\n",
       "      <th>question2</th>\n",
       "      <th>is_duplicate</th>\n",
       "    </tr>\n",
       "  </thead>\n",
       "  <tbody>\n",
       "    <tr>\n",
       "      <th>400</th>\n",
       "      <td>[could, start, open, source, development]</td>\n",
       "      <td>[start, contributing, open, source, projects]</td>\n",
       "      <td>1</td>\n",
       "    </tr>\n",
       "    <tr>\n",
       "      <th>401</th>\n",
       "      <td>[dreams, look, real]</td>\n",
       "      <td>[dream, kind, harm, injuries, real, life]</td>\n",
       "      <td>0</td>\n",
       "    </tr>\n",
       "    <tr>\n",
       "      <th>402</th>\n",
       "      <td>[cricket, players, really, drink, tea, tea, br...</td>\n",
       "      <td>[cricketers, actually, drink, tea, tea, break]</td>\n",
       "      <td>1</td>\n",
       "    </tr>\n",
       "    <tr>\n",
       "      <th>403</th>\n",
       "      <td>[get, entry, MIT]</td>\n",
       "      <td>[requirements, selection, MIT]</td>\n",
       "      <td>1</td>\n",
       "    </tr>\n",
       "    <tr>\n",
       "      <th>404</th>\n",
       "      <td>[fetus, breathe, inside, womb]</td>\n",
       "      <td>[fetus, exhale, womb]</td>\n",
       "      <td>1</td>\n",
       "    </tr>\n",
       "  </tbody>\n",
       "</table>\n",
       "</div>"
      ],
      "text/plain": [
       "                                             question1  \\\n",
       "400          [could, start, open, source, development]   \n",
       "401                               [dreams, look, real]   \n",
       "402  [cricket, players, really, drink, tea, tea, br...   \n",
       "403                                  [get, entry, MIT]   \n",
       "404                     [fetus, breathe, inside, womb]   \n",
       "\n",
       "                                          question2  is_duplicate  \n",
       "400   [start, contributing, open, source, projects]             1  \n",
       "401       [dream, kind, harm, injuries, real, life]             0  \n",
       "402  [cricketers, actually, drink, tea, tea, break]             1  \n",
       "403                  [requirements, selection, MIT]             1  \n",
       "404                           [fetus, exhale, womb]             1  "
      ]
     },
     "execution_count": 157,
     "metadata": {},
     "output_type": "execute_result"
    }
   ],
   "source": [
    "X_test.head()"
   ]
  },
  {
   "cell_type": "code",
   "execution_count": 158,
   "metadata": {},
   "outputs": [],
   "source": [
    "sentences = []\n",
    "for i in range(400, 500):\n",
    "    sentences.append(X_test['question1'][i] + X_test['question2'][i])\n",
    "    \n",
    "#print(df_train['question1'][0]+ df_train['question2'][0])\n",
    "# train model\n",
    "model = Word2Vec(sentences, min_count=1)"
   ]
  },
  {
   "cell_type": "code",
   "execution_count": 159,
   "metadata": {},
   "outputs": [
    {
     "name": "stderr",
     "output_type": "stream",
     "text": [
      "/home/sharad30/miniconda/envs/py36/lib/python3.6/site-packages/ipykernel_launcher.py:14: DeprecationWarning: Call to deprecated `__getitem__` (Method will be removed in 4.0.0, use self.wv.__getitem__() instead).\n",
      "  \n"
     ]
    },
    {
     "ename": "KeyError",
     "evalue": "\"word 'step' not in vocabulary\"",
     "output_type": "error",
     "traceback": [
      "\u001b[0;31m---------------------------------------------------------------------------\u001b[0m",
      "\u001b[0;31mKeyError\u001b[0m                                  Traceback (most recent call last)",
      "\u001b[0;32m<ipython-input-159-37ab018f5585>\u001b[0m in \u001b[0;36m<module>\u001b[0;34m()\u001b[0m\n\u001b[1;32m      3\u001b[0m \u001b[0mf4\u001b[0m \u001b[0;34m=\u001b[0m \u001b[0;34m[\u001b[0m\u001b[0;34m]\u001b[0m\u001b[0;34m\u001b[0m\u001b[0m\n\u001b[1;32m      4\u001b[0m \u001b[0;32mfor\u001b[0m \u001b[0mi\u001b[0m \u001b[0;32min\u001b[0m \u001b[0mrange\u001b[0m\u001b[0;34m(\u001b[0m\u001b[0;36m400\u001b[0m\u001b[0;34m,\u001b[0m \u001b[0;36m500\u001b[0m\u001b[0;34m)\u001b[0m\u001b[0;34m:\u001b[0m\u001b[0;34m\u001b[0m\u001b[0m\n\u001b[0;32m----> 5\u001b[0;31m     \u001b[0ms1_afv\u001b[0m \u001b[0;34m=\u001b[0m \u001b[0mavg_feature_vector\u001b[0m\u001b[0;34m(\u001b[0m\u001b[0mX_test\u001b[0m\u001b[0;34m[\u001b[0m\u001b[0;34m'question1'\u001b[0m\u001b[0;34m]\u001b[0m\u001b[0;34m[\u001b[0m\u001b[0mi\u001b[0m\u001b[0;34m]\u001b[0m\u001b[0;34m,\u001b[0m \u001b[0mmodel\u001b[0m\u001b[0;34m=\u001b[0m\u001b[0mmodel\u001b[0m\u001b[0;34m,\u001b[0m \u001b[0mnum_features\u001b[0m\u001b[0;34m=\u001b[0m\u001b[0;36m100\u001b[0m\u001b[0;34m,\u001b[0m \u001b[0mindex2word_set\u001b[0m\u001b[0;34m=\u001b[0m\u001b[0mindex2word_set\u001b[0m\u001b[0;34m)\u001b[0m\u001b[0;34m\u001b[0m\u001b[0m\n\u001b[0m\u001b[1;32m      6\u001b[0m     \u001b[0mf3\u001b[0m\u001b[0;34m.\u001b[0m\u001b[0mappend\u001b[0m\u001b[0;34m(\u001b[0m\u001b[0ms1_afv\u001b[0m\u001b[0;34m)\u001b[0m\u001b[0;34m\u001b[0m\u001b[0m\n\u001b[1;32m      7\u001b[0m     \u001b[0ms2_afv\u001b[0m \u001b[0;34m=\u001b[0m \u001b[0mavg_feature_vector\u001b[0m\u001b[0;34m(\u001b[0m\u001b[0mX_test\u001b[0m\u001b[0;34m[\u001b[0m\u001b[0;34m'question2'\u001b[0m\u001b[0;34m]\u001b[0m\u001b[0;34m[\u001b[0m\u001b[0mi\u001b[0m\u001b[0;34m]\u001b[0m\u001b[0;34m,\u001b[0m \u001b[0mmodel\u001b[0m\u001b[0;34m=\u001b[0m\u001b[0mmodel\u001b[0m\u001b[0;34m,\u001b[0m \u001b[0mnum_features\u001b[0m\u001b[0;34m=\u001b[0m\u001b[0;36m100\u001b[0m\u001b[0;34m,\u001b[0m \u001b[0mindex2word_set\u001b[0m\u001b[0;34m=\u001b[0m\u001b[0mindex2word_set\u001b[0m\u001b[0;34m)\u001b[0m\u001b[0;34m\u001b[0m\u001b[0m\n",
      "\u001b[0;32m<ipython-input-109-cef6c0266e9d>\u001b[0m in \u001b[0;36mavg_feature_vector\u001b[0;34m(sentence, model, num_features, index2word_set)\u001b[0m\n\u001b[1;32m     12\u001b[0m         \u001b[0;32mif\u001b[0m \u001b[0mword\u001b[0m \u001b[0;32min\u001b[0m \u001b[0mindex2word_set\u001b[0m\u001b[0;34m:\u001b[0m\u001b[0;34m\u001b[0m\u001b[0m\n\u001b[1;32m     13\u001b[0m             \u001b[0mn_words\u001b[0m \u001b[0;34m+=\u001b[0m \u001b[0;36m1\u001b[0m\u001b[0;34m\u001b[0m\u001b[0m\n\u001b[0;32m---> 14\u001b[0;31m             \u001b[0mfeature_vec\u001b[0m \u001b[0;34m=\u001b[0m \u001b[0mnp\u001b[0m\u001b[0;34m.\u001b[0m\u001b[0madd\u001b[0m\u001b[0;34m(\u001b[0m\u001b[0mfeature_vec\u001b[0m\u001b[0;34m,\u001b[0m \u001b[0mmodel\u001b[0m\u001b[0;34m[\u001b[0m\u001b[0mword\u001b[0m\u001b[0;34m]\u001b[0m\u001b[0;34m)\u001b[0m\u001b[0;34m\u001b[0m\u001b[0m\n\u001b[0m\u001b[1;32m     15\u001b[0m     \u001b[0;32mif\u001b[0m \u001b[0;34m(\u001b[0m\u001b[0mn_words\u001b[0m \u001b[0;34m>\u001b[0m \u001b[0;36m0\u001b[0m\u001b[0;34m)\u001b[0m\u001b[0;34m:\u001b[0m\u001b[0;34m\u001b[0m\u001b[0m\n\u001b[1;32m     16\u001b[0m         \u001b[0mfeature_vec\u001b[0m \u001b[0;34m=\u001b[0m \u001b[0mnp\u001b[0m\u001b[0;34m.\u001b[0m\u001b[0mdivide\u001b[0m\u001b[0;34m(\u001b[0m\u001b[0mfeature_vec\u001b[0m\u001b[0;34m,\u001b[0m \u001b[0mn_words\u001b[0m\u001b[0;34m)\u001b[0m\u001b[0;34m\u001b[0m\u001b[0m\n",
      "\u001b[0;32m~/miniconda/envs/py36/lib/python3.6/site-packages/gensim/utils.py\u001b[0m in \u001b[0;36mnew_func1\u001b[0;34m(*args, **kwargs)\u001b[0m\n\u001b[1;32m   1396\u001b[0m                     \u001b[0mstacklevel\u001b[0m\u001b[0;34m=\u001b[0m\u001b[0;36m2\u001b[0m\u001b[0;34m\u001b[0m\u001b[0m\n\u001b[1;32m   1397\u001b[0m                 )\n\u001b[0;32m-> 1398\u001b[0;31m                 \u001b[0;32mreturn\u001b[0m \u001b[0mfunc\u001b[0m\u001b[0;34m(\u001b[0m\u001b[0;34m*\u001b[0m\u001b[0margs\u001b[0m\u001b[0;34m,\u001b[0m \u001b[0;34m**\u001b[0m\u001b[0mkwargs\u001b[0m\u001b[0;34m)\u001b[0m\u001b[0;34m\u001b[0m\u001b[0m\n\u001b[0m\u001b[1;32m   1399\u001b[0m \u001b[0;34m\u001b[0m\u001b[0m\n\u001b[1;32m   1400\u001b[0m             \u001b[0;32mreturn\u001b[0m \u001b[0mnew_func1\u001b[0m\u001b[0;34m\u001b[0m\u001b[0m\n",
      "\u001b[0;32m~/miniconda/envs/py36/lib/python3.6/site-packages/gensim/models/word2vec.py\u001b[0m in \u001b[0;36m__getitem__\u001b[0;34m(self, words)\u001b[0m\n\u001b[1;32m    819\u001b[0m         \u001b[0mRefer\u001b[0m \u001b[0mto\u001b[0m \u001b[0mthe\u001b[0m \u001b[0mdocumentation\u001b[0m \u001b[0;32mfor\u001b[0m\u001b[0;31m \u001b[0m\u001b[0;31m`\u001b[0m\u001b[0mgensim\u001b[0m\u001b[0;34m.\u001b[0m\u001b[0mmodels\u001b[0m\u001b[0;34m.\u001b[0m\u001b[0mkeyedvectors\u001b[0m\u001b[0;34m.\u001b[0m\u001b[0mWord2VecKeyedVectors\u001b[0m\u001b[0;34m.\u001b[0m\u001b[0m__getitem__\u001b[0m\u001b[0;31m`\u001b[0m\u001b[0;34m\u001b[0m\u001b[0m\n\u001b[1;32m    820\u001b[0m         \"\"\"\n\u001b[0;32m--> 821\u001b[0;31m         \u001b[0;32mreturn\u001b[0m \u001b[0mself\u001b[0m\u001b[0;34m.\u001b[0m\u001b[0mwv\u001b[0m\u001b[0;34m.\u001b[0m\u001b[0m__getitem__\u001b[0m\u001b[0;34m(\u001b[0m\u001b[0mwords\u001b[0m\u001b[0;34m)\u001b[0m\u001b[0;34m\u001b[0m\u001b[0m\n\u001b[0m\u001b[1;32m    822\u001b[0m \u001b[0;34m\u001b[0m\u001b[0m\n\u001b[1;32m    823\u001b[0m     \u001b[0;34m@\u001b[0m\u001b[0mdeprecated\u001b[0m\u001b[0;34m(\u001b[0m\u001b[0;34m\"Method will be removed in 4.0.0, use self.wv.__contains__() instead\"\u001b[0m\u001b[0;34m)\u001b[0m\u001b[0;34m\u001b[0m\u001b[0m\n",
      "\u001b[0;32m~/miniconda/envs/py36/lib/python3.6/site-packages/gensim/models/keyedvectors.py\u001b[0m in \u001b[0;36m__getitem__\u001b[0;34m(self, entities)\u001b[0m\n\u001b[1;32m    167\u001b[0m         \u001b[0;32mif\u001b[0m \u001b[0misinstance\u001b[0m\u001b[0;34m(\u001b[0m\u001b[0mentities\u001b[0m\u001b[0;34m,\u001b[0m \u001b[0mstring_types\u001b[0m\u001b[0;34m)\u001b[0m\u001b[0;34m:\u001b[0m\u001b[0;34m\u001b[0m\u001b[0m\n\u001b[1;32m    168\u001b[0m             \u001b[0;31m# allow calls like trained_model['office'], as a shorthand for trained_model[['office']]\u001b[0m\u001b[0;34m\u001b[0m\u001b[0;34m\u001b[0m\u001b[0m\n\u001b[0;32m--> 169\u001b[0;31m             \u001b[0;32mreturn\u001b[0m \u001b[0mself\u001b[0m\u001b[0;34m.\u001b[0m\u001b[0mget_vector\u001b[0m\u001b[0;34m(\u001b[0m\u001b[0mentities\u001b[0m\u001b[0;34m)\u001b[0m\u001b[0;34m\u001b[0m\u001b[0m\n\u001b[0m\u001b[1;32m    170\u001b[0m \u001b[0;34m\u001b[0m\u001b[0m\n\u001b[1;32m    171\u001b[0m         \u001b[0;32mreturn\u001b[0m \u001b[0mvstack\u001b[0m\u001b[0;34m(\u001b[0m\u001b[0;34m[\u001b[0m\u001b[0mself\u001b[0m\u001b[0;34m.\u001b[0m\u001b[0mget_vector\u001b[0m\u001b[0;34m(\u001b[0m\u001b[0mentity\u001b[0m\u001b[0;34m)\u001b[0m \u001b[0;32mfor\u001b[0m \u001b[0mentity\u001b[0m \u001b[0;32min\u001b[0m \u001b[0mentities\u001b[0m\u001b[0;34m]\u001b[0m\u001b[0;34m)\u001b[0m\u001b[0;34m\u001b[0m\u001b[0m\n",
      "\u001b[0;32m~/miniconda/envs/py36/lib/python3.6/site-packages/gensim/models/keyedvectors.py\u001b[0m in \u001b[0;36mget_vector\u001b[0;34m(self, word)\u001b[0m\n\u001b[1;32m    275\u001b[0m \u001b[0;34m\u001b[0m\u001b[0m\n\u001b[1;32m    276\u001b[0m     \u001b[0;32mdef\u001b[0m \u001b[0mget_vector\u001b[0m\u001b[0;34m(\u001b[0m\u001b[0mself\u001b[0m\u001b[0;34m,\u001b[0m \u001b[0mword\u001b[0m\u001b[0;34m)\u001b[0m\u001b[0;34m:\u001b[0m\u001b[0;34m\u001b[0m\u001b[0m\n\u001b[0;32m--> 277\u001b[0;31m         \u001b[0;32mreturn\u001b[0m \u001b[0mself\u001b[0m\u001b[0;34m.\u001b[0m\u001b[0mword_vec\u001b[0m\u001b[0;34m(\u001b[0m\u001b[0mword\u001b[0m\u001b[0;34m)\u001b[0m\u001b[0;34m\u001b[0m\u001b[0m\n\u001b[0m\u001b[1;32m    278\u001b[0m \u001b[0;34m\u001b[0m\u001b[0m\n\u001b[1;32m    279\u001b[0m     \u001b[0;32mdef\u001b[0m \u001b[0mwords_closer_than\u001b[0m\u001b[0;34m(\u001b[0m\u001b[0mself\u001b[0m\u001b[0;34m,\u001b[0m \u001b[0mw1\u001b[0m\u001b[0;34m,\u001b[0m \u001b[0mw2\u001b[0m\u001b[0;34m)\u001b[0m\u001b[0;34m:\u001b[0m\u001b[0;34m\u001b[0m\u001b[0m\n",
      "\u001b[0;32m~/miniconda/envs/py36/lib/python3.6/site-packages/gensim/models/keyedvectors.py\u001b[0m in \u001b[0;36mword_vec\u001b[0;34m(self, word, use_norm)\u001b[0m\n\u001b[1;32m    272\u001b[0m             \u001b[0;32mreturn\u001b[0m \u001b[0mresult\u001b[0m\u001b[0;34m\u001b[0m\u001b[0m\n\u001b[1;32m    273\u001b[0m         \u001b[0;32melse\u001b[0m\u001b[0;34m:\u001b[0m\u001b[0;34m\u001b[0m\u001b[0m\n\u001b[0;32m--> 274\u001b[0;31m             \u001b[0;32mraise\u001b[0m \u001b[0mKeyError\u001b[0m\u001b[0;34m(\u001b[0m\u001b[0;34m\"word '%s' not in vocabulary\"\u001b[0m \u001b[0;34m%\u001b[0m \u001b[0mword\u001b[0m\u001b[0;34m)\u001b[0m\u001b[0;34m\u001b[0m\u001b[0m\n\u001b[0m\u001b[1;32m    275\u001b[0m \u001b[0;34m\u001b[0m\u001b[0m\n\u001b[1;32m    276\u001b[0m     \u001b[0;32mdef\u001b[0m \u001b[0mget_vector\u001b[0m\u001b[0;34m(\u001b[0m\u001b[0mself\u001b[0m\u001b[0;34m,\u001b[0m \u001b[0mword\u001b[0m\u001b[0;34m)\u001b[0m\u001b[0;34m:\u001b[0m\u001b[0;34m\u001b[0m\u001b[0m\n",
      "\u001b[0;31mKeyError\u001b[0m: \"word 'step' not in vocabulary\""
     ]
    }
   ],
   "source": [
    "sim = []\n",
    "f3 = []\n",
    "f4 = []\n",
    "for i in range(400, 500):\n",
    "    s1_afv = avg_feature_vector(X_test['question1'][i], model=model, num_features=100, index2word_set=index2word_set)\n",
    "    f3.append(s1_afv)\n",
    "    s2_afv = avg_feature_vector(X_test['question2'][i], model=model, num_features=100, index2word_set=index2word_set)\n",
    "    f4.append(s2_afv)\n",
    "    sim.append(1 - spatial.distance.cosine(s1_afv, s2_afv)) "
   ]
  },
  {
   "cell_type": "code",
   "execution_count": null,
   "metadata": {},
   "outputs": [],
   "source": []
  }
 ],
 "metadata": {
  "kernelspec": {
   "display_name": "Python 3",
   "language": "python",
   "name": "python3"
  },
  "language_info": {
   "codemirror_mode": {
    "name": "ipython",
    "version": 3
   },
   "file_extension": ".py",
   "mimetype": "text/x-python",
   "name": "python",
   "nbconvert_exporter": "python",
   "pygments_lexer": "ipython3",
   "version": "3.6.5"
  }
 },
 "nbformat": 4,
 "nbformat_minor": 2
}
